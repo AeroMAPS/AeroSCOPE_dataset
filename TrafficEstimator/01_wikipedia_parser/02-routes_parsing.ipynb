{
 "cells": [
  {
   "cell_type": "markdown",
   "id": "3c60adc6-1561-420b-ab72-25ab75763a7f",
   "metadata": {},
   "source": [
    "# Retreiving airport routes\n",
    "\n",
    "For each airport previously found, another Python script opens the URL and analyses the HTML\n",
    "content of the page to find the \"Airline and Destinations\" section.\n",
    "\n",
    "The parsed content evolves with community updates. It was made in April 2023 for this notebook."
   ]
  },
  {
   "cell_type": "code",
   "execution_count": 1,
   "id": "196a2116-1c73-42ad-b3d1-c972238796b9",
   "metadata": {},
   "outputs": [],
   "source": [
    "import numpy as np\n",
    "import requests\n",
    "from requests.adapters import HTTPAdapter, Retry\n",
    "from bs4 import BeautifulSoup\n",
    "from string import Template\n",
    "import pandas as pd\n",
    "from tqdm.notebook import tqdm"
   ]
  },
  {
   "cell_type": "code",
   "execution_count": 2,
   "id": "5d5042c4-f52f-4bd2-9f73-2643c3ff48a8",
   "metadata": {},
   "outputs": [],
   "source": [
    "nam_airport_df=pd.read_csv('data/n_amer_arpt_v2.csv')\n",
    "sam_airport_df=pd.read_csv('data/s_amer_arpt_v2.csv')\n",
    "eu_airport_df=pd.read_csv('data/eu_arpt_v2.csv')\n",
    "af_airport_df=pd.read_csv('data/af_arpt_v2.csv')\n",
    "as_airport_df=pd.read_csv('data/as_arpt_v2.csv')\n",
    "oc_airport_df=pd.read_csv('data/oc_arpt_v2.csv')\n",
    "special_df=pd.read_csv('data/pb_arpt_v2.csv')\n",
    "missing_df=pd.read_csv('data/missing_arpt_v2.csv')"
   ]
  },
  {
   "cell_type": "code",
   "execution_count": 3,
   "id": "2e0c34a6-1817-4bcb-b2b5-45b3e90a094c",
   "metadata": {},
   "outputs": [],
   "source": [
    "airport_df_list =[nam_airport_df['wdpa_link'],sam_airport_df['wdpa_link'],eu_airport_df['wdpa_link'],af_airport_df['wdpa_link'],as_airport_df['wdpa_link'],oc_airport_df['wdpa_link'], special_df['wdpa_link'], missing_df['wdpa_link']]\n"
   ]
  },
  {
   "cell_type": "code",
   "execution_count": null,
   "id": "590ea5b7-db37-4881-9701-9fefb361dac5",
   "metadata": {},
   "outputs": [],
   "source": [
    "   \n",
    "relations=[]\n",
    "### create a long list of airports links instead of opening each to get the IATA.\n",
    "### Next step will be to merge the list with airport df on wiki link to associate the IATA/ICAO codes and  the other features.\n",
    "### \n",
    "\n",
    "for airport_links in tqdm(airport_df_list):\n",
    "    print('Starting continent parsings')\n",
    "    for airport_link in tqdm(airport_links):\n",
    "        \n",
    "        headers = {'User-Agent': 'AirProjectBot/0.0 (antoine732@hotmail.fr)'}\n",
    "        response = requests.get(airport_link, headers=headers)\n",
    "        soup = BeautifulSoup(response.content, 'html.parser')\n",
    "\n",
    "        ### Airline and Destination = for a route list. Most of the time there is a unique list of airlines but when cargo ops are also proeminennt, they are in another list we don't want for now.\n",
    "        # Two cases are therefore considered, depending if the page as or not this splitted list. \n",
    "\n",
    "        section = soup.find('span', {'id': 'Airlines_and_destinations'})\n",
    "        subsection = soup.find('span', {'id': 'Passenger'})\n",
    "        if subsection:\n",
    "            # print(f\"Airlines and Destinations section found for {airport_name} ({icao_code}) at {airport_link}\")\n",
    "            table = subsection.find_next('table', {'class': 'wikitable sortable'})\n",
    "            if table:\n",
    "                for row in table.find_all('tr'):\n",
    "                    cells = row.find_all('td')\n",
    "                    if cells:\n",
    "                        for link in cells[0].find_all('a'):\n",
    "                            href = link.get('href')\n",
    "                            if href and '/wiki/' in href:\n",
    "                                airline = ('https://en.wikipedia.org' + href)\n",
    "                        regular='Regular'\n",
    "                        for link in cells[1].find_all():\n",
    "                            if('Seasonal:' in link):\n",
    "                                regular='Seasonal'\n",
    "                            if('Seasonal charter:' in link):\n",
    "                                regular='Seasonal charter'\n",
    "                            href = link.get('href')\n",
    "                            if href and '/wiki/' in href:\n",
    "                                destination = ('https://en.wikipedia.org' + href)\n",
    "                                relations.append([airline, airport_link, destination, regular])\n",
    "\n",
    "            else:\n",
    "                pass# print(\"\\tNo Airlines and Destinations table found\")\n",
    "        elif section:\n",
    "            # print(f\"Airlines and Destinations section found for {airport_name} ({icao_code}) at {airport_link}\")\n",
    "            table = section.find_next('table', {'class': 'wikitable sortable'})\n",
    "            if table:\n",
    "                for row in table.find_all('tr'):\n",
    "                    cells = row.find_all('td')\n",
    "                    if cells:\n",
    "                        for link in cells[0].find_all('a'):\n",
    "                            href = link.get('href')\n",
    "                            if href and '/wiki/' in href:\n",
    "                                airline = ('https://en.wikipedia.org' + href)\n",
    "                        regular='Regular'\n",
    "                        for link in cells[1].find_all():\n",
    "                            if('Seasonal:' in link):\n",
    "                                regular='Seasonal'\n",
    "                            if('Seasonal charter:' in link):\n",
    "                                regular='Seasonal charter'\n",
    "                            href = link.get('href')\n",
    "                            if href and '/wiki/' in href:\n",
    "                                destination = ('https://en.wikipedia.org' + href)\n",
    "                                relations.append([airline, airport_link, destination, regular])\n",
    "            else:\n",
    "                pass# print(\"\\tNo Airlines and Destinations table found\")\n",
    "\n",
    "        else:\n",
    "            pass# print(f\"No Airlines and Destinations section found for {airport_name} ({icao_code}) at {airport_link}\")\n",
    "    print('End of continent parsing. Next Continent')\n",
    "print('End of all loops')\n",
    "    \n",
    "\n",
    "\n",
    "\n",
    "    \n"
   ]
  },
  {
   "cell_type": "code",
   "execution_count": 5,
   "id": "66c41029-8381-4927-939a-45be15d8f055",
   "metadata": {},
   "outputs": [],
   "source": [
    "relation_df=pd.DataFrame(relations)\n",
    "relation_df.to_csv('data/wikipedia_relations_new24_04.csv')"
   ]
  },
  {
   "cell_type": "code",
   "execution_count": null,
   "id": "fbec5953-8c60-40c3-97b2-411ff9551e84",
   "metadata": {},
   "outputs": [],
   "source": []
  }
 ],
 "metadata": {
  "kernelspec": {
   "display_name": "Python 3 (ipykernel)",
   "language": "python",
   "name": "python3"
  },
  "language_info": {
   "codemirror_mode": {
    "name": "ipython",
    "version": 3
   },
   "file_extension": ".py",
   "mimetype": "text/x-python",
   "name": "python",
   "nbconvert_exporter": "python",
   "pygments_lexer": "ipython3",
   "version": "3.9.15"
  }
 },
 "nbformat": 4,
 "nbformat_minor": 5
}
