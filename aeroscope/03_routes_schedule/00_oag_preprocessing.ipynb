{
 "cells": [
  {
   "cell_type": "markdown",
   "id": "819438d5-ccac-4896-aef9-2caeafc348de",
   "metadata": {},
   "source": [
    "## Markdown preprocess"
   ]
  },
  {
   "cell_type": "code",
   "execution_count": 1,
   "id": "c2b52a85-d841-47ad-97c3-ec8ce1296d98",
   "metadata": {},
   "outputs": [],
   "source": [
    "import pandas as pd\n",
    "from tqdm.notebook import tqdm\n",
    "\n",
    "tqdm.pandas()"
   ]
  },
  {
   "cell_type": "code",
   "execution_count": 3,
   "id": "b31430cc-0164-4332-8b38-35e172e1d85f",
   "metadata": {
    "tags": []
   },
   "outputs": [],
   "source": [
    "a = pd.read_csv(\n",
    "    \"../../../../Desktop/DataDelft/2018.csv\",\n",
    "    dtype={\"GeneralAcft\": \"str\", \"LocalArrDay\": \"str\"},\n",
    ")"
   ]
  },
  {
   "cell_type": "code",
   "execution_count": 4,
   "id": "c8d06352-e979-482e-adab-c1123856bd4d",
   "metadata": {
    "tags": []
   },
   "outputs": [],
   "source": [
    "a.to_parquet(\"../../../../Desktop/DataDelft/oag_2k18.parquet.gzip\", compression=\"gzip\")"
   ]
  },
  {
   "cell_type": "code",
   "execution_count": null,
   "id": "01293a7d-4c10-46a3-a596-a32d69fe8b2a",
   "metadata": {
    "tags": []
   },
   "outputs": [],
   "source": [
    "# a=pd.read_parquet('../../../../Desktop/DataDelft/oag_2k18.parquet.gzip')"
   ]
  },
  {
   "cell_type": "code",
   "execution_count": 13,
   "id": "44171549-0e2f-4832-a4a5-4f1ca6d93d9d",
   "metadata": {
    "tags": []
   },
   "outputs": [
    {
     "data": {
      "text/plain": [
       "0           09/08/2018 00:00:00\n",
       "1           27/11/2018 00:00:00\n",
       "2           01/09/2018 00:00:00\n",
       "3           13/10/2018 00:00:00\n",
       "4           02/10/2018 00:00:00\n",
       "                   ...         \n",
       "47282694    22/09/2018 00:00:00\n",
       "47282695    05/10/2018 00:00:00\n",
       "47282696    24/10/2018 00:00:00\n",
       "47282697    13/02/2018 00:00:00\n",
       "47282698    16/02/2018 00:00:00\n",
       "Name: TimeSeries, Length: 47282699, dtype: object"
      ]
     },
     "execution_count": 13,
     "metadata": {},
     "output_type": "execute_result"
    }
   ],
   "source": []
  },
  {
   "cell_type": "code",
   "execution_count": 4,
   "id": "1a7eb96d-7875-42b9-9125-ba85a10c4f7f",
   "metadata": {
    "tags": []
   },
   "outputs": [],
   "source": [
    "# group by the new column\n",
    "grouped = (\n",
    "    a.groupby([\"DepAirport\", \"ArrAirport\", \"Km\"])[\"TotalSeatCapacity\"]\n",
    "    .sum()\n",
    "    .reset_index()\n",
    ")\n",
    "grouped.to_csv(\"grouped_oag.csv\")"
   ]
  },
  {
   "cell_type": "code",
   "execution_count": 6,
   "id": "9f485cdc-12a8-479f-bbed-78179d8ec895",
   "metadata": {
    "tags": []
   },
   "outputs": [],
   "source": [
    "import numpy as np\n",
    "\n",
    "\n",
    "def airport_lookup(iata_ref, iata, col):\n",
    "    if len(arpt_ref[arpt_ref[iata_ref] == iata][col].values) > 0:\n",
    "        return arpt_ref[arpt_ref[iata_ref] == iata][col].values[0]\n",
    "    else:\n",
    "        return np.nan"
   ]
  },
  {
   "cell_type": "code",
   "execution_count": 9,
   "id": "825efec6-d33d-4e96-a2c8-8d33e16420ac",
   "metadata": {
    "tags": []
   },
   "outputs": [
    {
     "data": {
      "application/vnd.jupyter.widget-view+json": {
       "model_id": "5853f17d1bef4e76bf0e5c0fee643bdf",
       "version_major": 2,
       "version_minor": 0
      },
      "text/plain": [
       "  0%|          | 0/74834 [00:00<?, ?it/s]"
      ]
     },
     "metadata": {},
     "output_type": "display_data"
    },
    {
     "data": {
      "application/vnd.jupyter.widget-view+json": {
       "model_id": "c5bbdb350d11425fb9a95a4918c4fe5e",
       "version_major": 2,
       "version_minor": 0
      },
      "text/plain": [
       "  0%|          | 0/74834 [00:00<?, ?it/s]"
      ]
     },
     "metadata": {},
     "output_type": "display_data"
    },
    {
     "data": {
      "application/vnd.jupyter.widget-view+json": {
       "model_id": "47a6e02939a54cb093764551f1a14bb1",
       "version_major": 2,
       "version_minor": 0
      },
      "text/plain": [
       "  0%|          | 0/74834 [00:00<?, ?it/s]"
      ]
     },
     "metadata": {},
     "output_type": "display_data"
    },
    {
     "data": {
      "application/vnd.jupyter.widget-view+json": {
       "model_id": "cb43fbd5ebe040cfbc711b70875e9de8",
       "version_major": 2,
       "version_minor": 0
      },
      "text/plain": [
       "  0%|          | 0/74834 [00:00<?, ?it/s]"
      ]
     },
     "metadata": {},
     "output_type": "display_data"
    }
   ],
   "source": [
    "# grouped=pd.read_csv('grouped_oag.csv')\n",
    "\n",
    "arpt_ref = pd.read_csv(\n",
    "    \"../01_wikipedia_parser/data/airports.csv\",\n",
    "    sep=\";\",\n",
    "    keep_default_na=False,\n",
    "    na_values=[\"\", \"NaN\", 0],\n",
    "    on_bad_lines=\"skip\",\n",
    ")\n",
    "grouped.loc[:, \"ISO_country_dep\"] = grouped.progress_apply(\n",
    "    lambda row: airport_lookup(\"iata_code\", row[\"DepAirport\"], \"iso_country\"), axis=1\n",
    ")\n",
    "grouped.loc[:, \"ISO_country_arr\"] = grouped.progress_apply(\n",
    "    lambda row: airport_lookup(\"iata_code\", row[\"ArrAirport\"], \"iso_country\"), axis=1\n",
    ")\n",
    "grouped.loc[:, \"ISO_continent_dep\"] = grouped.progress_apply(\n",
    "    lambda row: airport_lookup(\"iata_code\", row[\"DepAirport\"], \"continent\"), axis=1\n",
    ")\n",
    "grouped.loc[:, \"ISO_continent_arr\"] = grouped.progress_apply(\n",
    "    lambda row: airport_lookup(\"iata_code\", row[\"ArrAirport\"], \"continent\"), axis=1\n",
    ")\n",
    "\n",
    "grouped.to_csv(\"grouped_oag.csv\")"
   ]
  },
  {
   "cell_type": "code",
   "execution_count": 7,
   "id": "73f6a7ec-8d86-4717-a65a-2d90ff0c8aac",
   "metadata": {
    "tags": []
   },
   "outputs": [],
   "source": [
    "# seats_dep = grouped.groupby('ISO_country_dep')['TotalSeatCapacity'].sum()\n",
    "# seats_arr = grouped.groupby('ISO_country_arr')['TotalSeatCapacity'].sum()\n",
    "\n",
    "# # count \"seat movement\" = 1 movement for arrival, 1 for departure\n",
    "# seats_tot=seats_dep+seats_arr"
   ]
  },
  {
   "cell_type": "code",
   "execution_count": 22,
   "id": "3a45af30-8c92-41f5-a561-cc3cf8a4c1e4",
   "metadata": {
    "tags": []
   },
   "outputs": [
    {
     "data": {
      "text/plain": [
       "ISO_country_dep\n",
       "AE    158233261\n",
       "AF      3912773\n",
       "AG      1439106\n",
       "AI        94662\n",
       "AL      3707337\n",
       "        ...    \n",
       "YE        47929\n",
       "YT       659242\n",
       "ZA     59970072\n",
       "ZM      2793780\n",
       "ZW      3125854\n",
       "Name: TotalSeatCapacity, Length: 234, dtype: int64"
      ]
     },
     "execution_count": 22,
     "metadata": {},
     "output_type": "execute_result"
    }
   ],
   "source": [
    "# seats_tot"
   ]
  },
  {
   "cell_type": "code",
   "execution_count": 18,
   "id": "c11d8ad2-22d6-4366-a06f-2456bc1a96cb",
   "metadata": {
    "tags": []
   },
   "outputs": [],
   "source": [
    "# seats_tot.to_csv('oag_dummy.csv')"
   ]
  },
  {
   "cell_type": "code",
   "execution_count": 7,
   "id": "6203ca5d-8b3f-44b4-a1a6-070debed3283",
   "metadata": {
    "tags": []
   },
   "outputs": [],
   "source": [
    "# grouped_country_arpt = grouped.groupby(['DepAirport','ISO_country_dep','ArrAirport','ISO_country_arr'])['TotalSeatCapacity'].sum().reset_index()\n",
    "# grouped.to_csv('grouped_oag_country_airport.csv')"
   ]
  },
  {
   "cell_type": "code",
   "execution_count": 2,
   "id": "6cd0c243-3d45-4230-9065-2ab536cf9f5f",
   "metadata": {},
   "outputs": [],
   "source": [
    "# a_month=pd.read_csv('../../../../Desktop/DataDelft/2018.csv', dtype={'GeneralAcft': 'str', 'LocalArrDay': 'str'},  parse_dates=['TimeSeries'], dayfirst=True)"
   ]
  },
  {
   "cell_type": "code",
   "execution_count": 7,
   "id": "48e4199c-c275-49dd-9916-e03259ed5b3d",
   "metadata": {
    "tags": []
   },
   "outputs": [],
   "source": [
    "# a_good=a_month[a_month.TimeSeries.dt.month.isin([3,6,9,12])]\n",
    "# # time=pd.to_datetime(a.TimeSeries, dayfirst=True)"
   ]
  },
  {
   "cell_type": "code",
   "execution_count": 9,
   "id": "237823cc-f109-4135-8217-24a6fa08c1c8",
   "metadata": {
    "tags": []
   },
   "outputs": [],
   "source": [
    "# a_good_grouped = a_good.groupby(['DepAirport','ArrAirport','Km'])['TotalSeatCapacity'].sum().reset_index()\n",
    "# a_good_grouped.to_csv('month_grouped_oag.csv')"
   ]
  },
  {
   "cell_type": "code",
   "execution_count": null,
   "id": "ad5e4df2-8717-44f9-aa8e-153e7698daef",
   "metadata": {},
   "outputs": [],
   "source": [
    "# # group by the new column\n",
    "# grouped = a.groupby(['DepAirport','ArrAirport','Km'])['TotalSeatCapacity'].sum().reset_index()\n",
    "# grouped.to_csv('grouped_month_oag.csv')"
   ]
  }
 ],
 "metadata": {
  "kernelspec": {
   "display_name": "Python 3 (ipykernel)",
   "language": "python",
   "name": "python3"
  },
  "language_info": {
   "codemirror_mode": {
    "name": "ipython",
    "version": 3
   },
   "file_extension": ".py",
   "mimetype": "text/x-python",
   "name": "python",
   "nbconvert_exporter": "python",
   "pygments_lexer": "ipython3",
   "version": "3.9.15"
  }
 },
 "nbformat": 4,
 "nbformat_minor": 5
}
