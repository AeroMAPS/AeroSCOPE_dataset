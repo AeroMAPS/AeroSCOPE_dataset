{
 "cells": [
  {
   "cell_type": "code",
   "execution_count": 1,
   "id": "dd1f8b25-204c-4889-8146-778fa5e6f1d2",
   "metadata": {},
   "outputs": [],
   "source": [
    "%matplotlib inline\n",
    "import matplotlib.pyplot as plt\n",
    "import numpy as np\n",
    "import pandas as pd\n",
    "from tqdm.notebook import tqdm\n",
    "tqdm.pandas()\n",
    "\n",
    "from geopy import distance\n"
   ]
  },
  {
   "cell_type": "markdown",
   "id": "f36cc969-083f-4194-8594-532c37051020",
   "metadata": {},
   "source": [
    "## Data from zenodo archive\n",
    "\n",
    "https://zenodo.org/record/7923702"
   ]
  },
  {
   "cell_type": "code",
   "execution_count": 2,
   "id": "ee694266-5006-4ff2-9b13-cd610cc3748e",
   "metadata": {
    "tags": []
   },
   "outputs": [
    {
     "name": "stderr",
     "output_type": "stream",
     "text": [
      "C:\\Users\\a.salgas.ISAE-SUPAERO\\AppData\\Local\\miniconda3\\envs\\aeroscope_OS\\lib\\site-packages\\pyopensky\\impala.py:17: TqdmExperimentalWarning: Using `tqdm.autonotebook.tqdm` in notebook mode. Use `tqdm.tqdm` instead to force console mode (e.g. in jupyter console)\n",
      "  from tqdm.autonotebook import tqdm\n"
     ]
    },
    {
     "name": "stdout",
     "output_type": "stream",
     "text": [
      "C:\\Users\\a.salgas.ISAE-SUPAERO\\AppData\\Local\\traffic\\traffic\\traffic.conf\n"
     ]
    }
   ],
   "source": [
    "import traffic\n",
    "\n",
    "from traffic.data import opensky\n",
    "print(traffic.config_file)"
   ]
  },
  {
   "cell_type": "code",
   "execution_count": 3,
   "id": "60d5ea99-0019-458e-998b-6e187fae48bc",
   "metadata": {
    "tags": []
   },
   "outputs": [
    {
     "name": "stdout",
     "output_type": "stream",
     "text": [
      "## This file contains configuration information for the Python traffic library\n",
      "##   Documentation page: https://traffic-viz.github.io/\n",
      "##   Github repository: https://github.com/xoolive/traffic\n",
      "\n",
      "## Lines prefixed by a # are commented.\n",
      "## Lines prefixed by a double ## are documentation.\n",
      "\n",
      "[global]\n",
      "\n",
      "## aixm_path and nm_path refer to two sources of aeronautical information\n",
      "## provided by Eurocontrol. Data is updated every AIRAC cycle.\n",
      "## https://traffic-viz.github.io/airac_usage.html\n",
      "\n",
      "aixm_path =\n",
      "nm_path =\n",
      "\n",
      "[opensky]\n",
      "\n",
      "## Input here your credentials for accessing the OpenSky Impala shell\n",
      "## https://opensky-network.org/impala-guide\n",
      "\n",
      "username = antoineSGS\n",
      "password = VXa9!8n4YV\n",
      "\n",
      "## You may set a ssh ProxyCommand in the [network] section\n",
      "\n",
      "[aircraft]\n",
      "\n",
      "## By default, aircraft are downloaded from the OpenSky aircraft database\n",
      "## https://opensky-network.org/aircraft-database\n",
      "\n",
      "## Specify here the path to your own aircraft database file, in a format that\n",
      "## pandas can read (.csv, .pickle, etc.)\n",
      "## Required columns are icao24, registration, typecode and model\n",
      "## Any other column is allowed but optional\n",
      "\n",
      "# database =\n",
      "\n",
      "## Set below the names for the required columns in your database file\n",
      "\n",
      "# icao24 =\n",
      "# registration =\n",
      "# typecode =\n",
      "# model =\n",
      "\n",
      "[cache]\n",
      "\n",
      "## You may set a different cache folder here if you have a preferred space\n",
      "## for storing possibly large files.\n",
      "# path =\n",
      "\n",
      "## The expiration parameter refers to all data that is automatically downloaded\n",
      "## from various (mostly) open sources, relative to airports, runways, navaids,\n",
      "## and so on. Most of these online databases are regularly updated, so it is\n",
      "## recommended to let the library remember when to expire caches and download\n",
      "## the data again.\n",
      "## Files are removed iff new files can be downloaded.\n",
      "expiration = 90 days\n",
      "\n",
      "## The purge parameter refers to the cache folder containing data from the\n",
      "## Opensky Impala shell. Cache files tend to take space so you may want to let\n",
      "## the library delete older files.\n",
      "## Files are removed when the library is imported.\n",
      "purge = 180 days\n",
      "\n",
      "[plugins]\n",
      "\n",
      "## input here a list of plugins you wish to activate each time you import\n",
      "## traffic. The list may be simultaneously multi-line and comma-separated.\n",
      "## Hyphens '-' are ignored during the parsing.\n",
      "## Plugin names are case insensitive\n",
      "\n",
      "enabled_plugins =\n",
      "    ## Default plugins (embedded in traffic library)\n",
      "    # - CesiumJS\n",
      "    # - Bluesky\n",
      "\n",
      "[network]\n",
      "\n",
      "## input here the arguments you need to pass as is to requests\n",
      "# http.proxy = http://proxy.company:8080\n",
      "# https.proxy = http://proxy.company:8080\n",
      "# http.proxy = socks5h://localhost:1234\n",
      "# https.proxy = socks5h://localhost:1234\n",
      "\n",
      "## input here the ProxyCommand you need to login to the Impala Shell\n",
      "## WARNING:\n",
      "##    Do not use %h and %p wildcards.\n",
      "##    Write data.opensky-network.org and 2230 explicitly instead\n",
      "# ssh.proxycommand = ssh -W data.opensky-network.org:2230 proxy_ip:proxy_port\n",
      "\n",
      "[nmb2b]\n",
      "\n",
      "## This section contains information to log in to Eurocontrol B2B services\n",
      "## https://traffic-viz.github.io/data_sources/flightplans.html\n",
      "\n",
      "pkcs12_filename =  # full path to the certificate file\n",
      "pkcs12_password =\n",
      "# mode = OPS  # default: PREOPS\n",
      "# version = 25.0.0  # default: 25.0.0\n",
      "\n"
     ]
    }
   ],
   "source": [
    "f = open(traffic.config_file, 'r')\n",
    "file_contents = f.read()\n",
    "print(file_contents)"
   ]
  },
  {
   "cell_type": "code",
   "execution_count": 4,
   "id": "3933a318-3299-4a3d-89b1-b98a8363ddfe",
   "metadata": {
    "tags": []
   },
   "outputs": [
    {
     "ename": "TimeoutError",
     "evalue": "[WinError 10060] Une tentative de connexion a échoué car le parti connecté n’a pas répondu convenablement au-delà d’une certaine durée ou une connexion établie a échoué car l’hôte de connexion n’a pas répondu",
     "output_type": "error",
     "traceback": [
      "\u001b[1;31m---------------------------------------------------------------------------\u001b[0m",
      "\u001b[1;31mTimeoutError\u001b[0m                              Traceback (most recent call last)",
      "Cell \u001b[1;32mIn[4], line 1\u001b[0m\n\u001b[1;32m----> 1\u001b[0m flight \u001b[38;5;241m=\u001b[39m \u001b[43mopensky\u001b[49m\u001b[38;5;241;43m.\u001b[39;49m\u001b[43mhistory\u001b[49m\u001b[43m(\u001b[49m\n\u001b[0;32m      2\u001b[0m \u001b[43m    \u001b[49m\u001b[38;5;124;43m\"\u001b[39;49m\u001b[38;5;124;43m2017-02-05 15:45\u001b[39;49m\u001b[38;5;124;43m\"\u001b[39;49m\u001b[43m,\u001b[49m\n\u001b[0;32m      3\u001b[0m \u001b[43m    \u001b[49m\u001b[43mstop\u001b[49m\u001b[38;5;241;43m=\u001b[39;49m\u001b[38;5;124;43m\"\u001b[39;49m\u001b[38;5;124;43m2017-02-05 16:45\u001b[39;49m\u001b[38;5;124;43m\"\u001b[39;49m\u001b[43m,\u001b[49m\n\u001b[0;32m      4\u001b[0m \u001b[43m    \u001b[49m\u001b[43mcallsign\u001b[49m\u001b[38;5;241;43m=\u001b[39;49m\u001b[38;5;124;43m\"\u001b[39;49m\u001b[38;5;124;43mEZY158T\u001b[39;49m\u001b[38;5;124;43m\"\u001b[39;49m\u001b[43m,\u001b[49m\n\u001b[0;32m      5\u001b[0m \u001b[43m    \u001b[49m\u001b[38;5;66;43;03m# returns a Flight instead of a Traffic\u001b[39;49;00m\n\u001b[0;32m      6\u001b[0m \u001b[43m    \u001b[49m\u001b[43mreturn_flight\u001b[49m\u001b[38;5;241;43m=\u001b[39;49m\u001b[38;5;28;43;01mTrue\u001b[39;49;00m\n\u001b[0;32m      7\u001b[0m \u001b[43m)\u001b[49m\n",
      "File \u001b[1;32m~\\AppData\\Local\\miniconda3\\envs\\aeroscope_OS\\lib\\site-packages\\traffic\\data\\adsb\\opensky.py:384\u001b[0m, in \u001b[0;36mOpenSky.history\u001b[1;34m(self, start, stop, callsign, icao24, serials, bounds, departure_airport, arrival_airport, airport, cached, compress, limit, return_flight, *args, **kwargs)\u001b[0m\n\u001b[0;32m    361\u001b[0m \u001b[38;5;129m@copy_documentation\u001b[39m(trino\u001b[38;5;241m.\u001b[39mTrino\u001b[38;5;241m.\u001b[39mhistory)\n\u001b[0;32m    362\u001b[0m \u001b[38;5;28;01mdef\u001b[39;00m \u001b[38;5;21mhistory\u001b[39m(\n\u001b[0;32m    363\u001b[0m     \u001b[38;5;28mself\u001b[39m,\n\u001b[1;32m   (...)\u001b[0m\n\u001b[0;32m    382\u001b[0m     \u001b[38;5;241m*\u001b[39m\u001b[38;5;241m*\u001b[39mkwargs: Any,\n\u001b[0;32m    383\u001b[0m ) \u001b[38;5;241m-\u001b[39m\u001b[38;5;241m>\u001b[39m \u001b[38;5;28;01mNone\u001b[39;00m \u001b[38;5;241m|\u001b[39m Flight \u001b[38;5;241m|\u001b[39m Traffic:\n\u001b[1;32m--> 384\u001b[0m     df \u001b[38;5;241m=\u001b[39m \u001b[38;5;28mself\u001b[39m\u001b[38;5;241m.\u001b[39mdb_client\u001b[38;5;241m.\u001b[39mhistory(\n\u001b[0;32m    385\u001b[0m         start,\n\u001b[0;32m    386\u001b[0m         stop,\n\u001b[0;32m    387\u001b[0m         \u001b[38;5;241m*\u001b[39margs,\n\u001b[0;32m    388\u001b[0m         callsign\u001b[38;5;241m=\u001b[39mcallsign,\n\u001b[0;32m    389\u001b[0m         icao24\u001b[38;5;241m=\u001b[39micao24,\n\u001b[0;32m    390\u001b[0m         serials\u001b[38;5;241m=\u001b[39mserials,\n\u001b[0;32m    391\u001b[0m         bounds\u001b[38;5;241m=\u001b[39mbounds,\n\u001b[0;32m    392\u001b[0m         departure_airport\u001b[38;5;241m=\u001b[39mdeparture_airport,\n\u001b[0;32m    393\u001b[0m         arrival_airport\u001b[38;5;241m=\u001b[39marrival_airport,\n\u001b[0;32m    394\u001b[0m         airport\u001b[38;5;241m=\u001b[39mairport,\n\u001b[0;32m    395\u001b[0m         cached\u001b[38;5;241m=\u001b[39mcached,\n\u001b[0;32m    396\u001b[0m         compress\u001b[38;5;241m=\u001b[39mcompress,\n\u001b[0;32m    397\u001b[0m         limit\u001b[38;5;241m=\u001b[39mlimit,\n\u001b[0;32m    398\u001b[0m         \u001b[38;5;241m*\u001b[39m\u001b[38;5;241m*\u001b[39mkwargs,\n\u001b[0;32m    399\u001b[0m     )\n\u001b[0;32m    400\u001b[0m     \u001b[38;5;28;01mif\u001b[39;00m df \u001b[38;5;129;01mis\u001b[39;00m \u001b[38;5;28;01mNone\u001b[39;00m:\n\u001b[0;32m    401\u001b[0m         \u001b[38;5;28;01mreturn\u001b[39;00m \u001b[38;5;28;01mNone\u001b[39;00m\n",
      "File \u001b[1;32m~\\AppData\\Local\\miniconda3\\envs\\aeroscope_OS\\lib\\site-packages\\pyopensky\\impala.py:976\u001b[0m, in \u001b[0;36mImpala.history\u001b[1;34m(self, start, stop, callsign, icao24, serials, bounds, departure_airport, arrival_airport, airport, cached, compress, limit, other_tables, other_params, time_buffer, progressbar, date_delta, count, *args, **kwargs)\u001b[0m\n\u001b[0;32m    953\u001b[0m _log\u001b[38;5;241m.\u001b[39minfo(\n\u001b[0;32m    954\u001b[0m     \u001b[38;5;124mf\u001b[39m\u001b[38;5;124m\"\u001b[39m\u001b[38;5;124mSending request between time \u001b[39m\u001b[38;5;132;01m{\u001b[39;00mbt\u001b[38;5;132;01m}\u001b[39;00m\u001b[38;5;124m and \u001b[39m\u001b[38;5;132;01m{\u001b[39;00mat\u001b[38;5;132;01m}\u001b[39;00m\u001b[38;5;124m \u001b[39m\u001b[38;5;124m\"\u001b[39m\n\u001b[0;32m    955\u001b[0m     \u001b[38;5;124mf\u001b[39m\u001b[38;5;124m\"\u001b[39m\u001b[38;5;124mand hour \u001b[39m\u001b[38;5;132;01m{\u001b[39;00mbh\u001b[38;5;132;01m}\u001b[39;00m\u001b[38;5;124m and \u001b[39m\u001b[38;5;132;01m{\u001b[39;00mah\u001b[38;5;132;01m}\u001b[39;00m\u001b[38;5;124m\"\u001b[39m\n\u001b[0;32m    956\u001b[0m )\n\u001b[0;32m    958\u001b[0m request \u001b[38;5;241m=\u001b[39m \u001b[38;5;28mself\u001b[39m\u001b[38;5;241m.\u001b[39mbasic_request\u001b[38;5;241m.\u001b[39mformat(\n\u001b[0;32m    959\u001b[0m     columns\u001b[38;5;241m=\u001b[39mcolumns,\n\u001b[0;32m    960\u001b[0m     before_time\u001b[38;5;241m=\u001b[39mbt\u001b[38;5;241m.\u001b[39mtimestamp(),\n\u001b[1;32m   (...)\u001b[0m\n\u001b[0;32m    973\u001b[0m     where_clause\u001b[38;5;241m=\u001b[39mwhere_clause,\n\u001b[0;32m    974\u001b[0m )\n\u001b[1;32m--> 976\u001b[0m df \u001b[38;5;241m=\u001b[39m \u001b[38;5;28;43mself\u001b[39;49m\u001b[38;5;241;43m.\u001b[39;49m\u001b[43m_impala\u001b[49m\u001b[43m(\u001b[49m\n\u001b[0;32m    977\u001b[0m \u001b[43m    \u001b[49m\u001b[43mrequest\u001b[49m\u001b[43m,\u001b[49m\u001b[43m \u001b[49m\u001b[43mcolumns\u001b[49m\u001b[38;5;241;43m=\u001b[39;49m\u001b[43mparse_columns\u001b[49m\u001b[43m,\u001b[49m\u001b[43m \u001b[49m\u001b[43mcached\u001b[49m\u001b[38;5;241;43m=\u001b[39;49m\u001b[43mcached\u001b[49m\u001b[43m,\u001b[49m\u001b[43m \u001b[49m\u001b[43mcompress\u001b[49m\u001b[38;5;241;43m=\u001b[39;49m\u001b[43mcompress\u001b[49m\n\u001b[0;32m    978\u001b[0m \u001b[43m\u001b[49m\u001b[43m)\u001b[49m\n\u001b[0;32m    980\u001b[0m \u001b[38;5;28;01mif\u001b[39;00m df \u001b[38;5;129;01mis\u001b[39;00m \u001b[38;5;28;01mNone\u001b[39;00m:\n\u001b[0;32m    981\u001b[0m     \u001b[38;5;28;01mcontinue\u001b[39;00m\n",
      "File \u001b[1;32m~\\AppData\\Local\\miniconda3\\envs\\aeroscope_OS\\lib\\site-packages\\pyopensky\\impala.py:335\u001b[0m, in \u001b[0;36mImpala._impala\u001b[1;34m(self, request, columns, cached, compress)\u001b[0m\n\u001b[0;32m    333\u001b[0m \u001b[38;5;28;01mif\u001b[39;00m \u001b[38;5;129;01mnot\u001b[39;00m \u001b[38;5;28mself\u001b[39m\u001b[38;5;241m.\u001b[39mconnected:\n\u001b[0;32m    334\u001b[0m     _log\u001b[38;5;241m.\u001b[39minfo(\u001b[38;5;124m\"\u001b[39m\u001b[38;5;124mConnecting the database\u001b[39m\u001b[38;5;124m\"\u001b[39m)\n\u001b[1;32m--> 335\u001b[0m     \u001b[38;5;28;43mself\u001b[39;49m\u001b[38;5;241;43m.\u001b[39;49m\u001b[43m_connect\u001b[49m\u001b[43m(\u001b[49m\u001b[43m)\u001b[49m\n\u001b[0;32m    337\u001b[0m \u001b[38;5;66;03m# bug fix for when we write a request with \"\"\" starting with \\n\u001b[39;00m\n\u001b[0;32m    338\u001b[0m request \u001b[38;5;241m=\u001b[39m request\u001b[38;5;241m.\u001b[39mreplace(\u001b[38;5;124m\"\u001b[39m\u001b[38;5;130;01m\\n\u001b[39;00m\u001b[38;5;124m\"\u001b[39m, \u001b[38;5;124m\"\u001b[39m\u001b[38;5;124m \u001b[39m\u001b[38;5;124m\"\u001b[39m)\n",
      "File \u001b[1;32m~\\AppData\\Local\\miniconda3\\envs\\aeroscope_OS\\lib\\site-packages\\pyopensky\\impala.py:298\u001b[0m, in \u001b[0;36mImpala._connect\u001b[1;34m(self)\u001b[0m\n\u001b[0;32m    295\u001b[0m     _log\u001b[38;5;241m.\u001b[39minfo(\u001b[38;5;124mf\u001b[39m\u001b[38;5;124m\"\u001b[39m\u001b[38;5;124mUsing ProxyCommand: \u001b[39m\u001b[38;5;132;01m{\u001b[39;00m\u001b[38;5;28mself\u001b[39m\u001b[38;5;241m.\u001b[39mproxy_command\u001b[38;5;132;01m}\u001b[39;00m\u001b[38;5;124m\"\u001b[39m)\n\u001b[0;32m    296\u001b[0m     extra_args[\u001b[38;5;124m\"\u001b[39m\u001b[38;5;124msock\u001b[39m\u001b[38;5;124m\"\u001b[39m] \u001b[38;5;241m=\u001b[39m paramiko\u001b[38;5;241m.\u001b[39mProxyCommand(\u001b[38;5;28mself\u001b[39m\u001b[38;5;241m.\u001b[39mproxy_command)\n\u001b[1;32m--> 298\u001b[0m client\u001b[38;5;241m.\u001b[39mconnect(\n\u001b[0;32m    299\u001b[0m     \u001b[38;5;124m\"\u001b[39m\u001b[38;5;124mdata.opensky-network.org\u001b[39m\u001b[38;5;124m\"\u001b[39m,\n\u001b[0;32m    300\u001b[0m     port\u001b[38;5;241m=\u001b[39m\u001b[38;5;241m2230\u001b[39m,\n\u001b[0;32m    301\u001b[0m     username\u001b[38;5;241m=\u001b[39m\u001b[38;5;28mself\u001b[39m\u001b[38;5;241m.\u001b[39musername,\n\u001b[0;32m    302\u001b[0m     password\u001b[38;5;241m=\u001b[39m\u001b[38;5;28mself\u001b[39m\u001b[38;5;241m.\u001b[39mpassword,\n\u001b[0;32m    303\u001b[0m     look_for_keys\u001b[38;5;241m=\u001b[39m\u001b[38;5;28;01mFalse\u001b[39;00m,\n\u001b[0;32m    304\u001b[0m     allow_agent\u001b[38;5;241m=\u001b[39m\u001b[38;5;28;01mFalse\u001b[39;00m,\n\u001b[0;32m    305\u001b[0m     compress\u001b[38;5;241m=\u001b[39m\u001b[38;5;28;01mTrue\u001b[39;00m,\n\u001b[0;32m    306\u001b[0m     \u001b[38;5;241m*\u001b[39m\u001b[38;5;241m*\u001b[39mextra_args,  \u001b[38;5;66;03m# type: ignore\u001b[39;00m\n\u001b[0;32m    307\u001b[0m )\n\u001b[0;32m    308\u001b[0m \u001b[38;5;28mself\u001b[39m\u001b[38;5;241m.\u001b[39mstdin, \u001b[38;5;28mself\u001b[39m\u001b[38;5;241m.\u001b[39mstdout, \u001b[38;5;28mself\u001b[39m\u001b[38;5;241m.\u001b[39mstderr \u001b[38;5;241m=\u001b[39m client\u001b[38;5;241m.\u001b[39mexec_command(\n\u001b[0;32m    309\u001b[0m     \u001b[38;5;124m\"\u001b[39m\u001b[38;5;124m-B\u001b[39m\u001b[38;5;124m\"\u001b[39m, bufsize\u001b[38;5;241m=\u001b[39m\u001b[38;5;241m-\u001b[39m\u001b[38;5;241m1\u001b[39m, get_pty\u001b[38;5;241m=\u001b[39m\u001b[38;5;28;01mTrue\u001b[39;00m\n\u001b[0;32m    310\u001b[0m )\n\u001b[0;32m    311\u001b[0m \u001b[38;5;28mself\u001b[39m\u001b[38;5;241m.\u001b[39mconnected \u001b[38;5;241m=\u001b[39m \u001b[38;5;28;01mTrue\u001b[39;00m\n",
      "File \u001b[1;32m~\\AppData\\Local\\miniconda3\\envs\\aeroscope_OS\\lib\\site-packages\\paramiko\\client.py:386\u001b[0m, in \u001b[0;36mSSHClient.connect\u001b[1;34m(self, hostname, port, username, password, pkey, key_filename, timeout, allow_agent, look_for_keys, compress, sock, gss_auth, gss_kex, gss_deleg_creds, gss_host, banner_timeout, auth_timeout, channel_timeout, gss_trust_dns, passphrase, disabled_algorithms, transport_factory, auth_strategy)\u001b[0m\n\u001b[0;32m    384\u001b[0m     \u001b[38;5;28;01mexcept\u001b[39;00m:\n\u001b[0;32m    385\u001b[0m         \u001b[38;5;28;01mpass\u001b[39;00m\n\u001b[1;32m--> 386\u001b[0m \u001b[43msock\u001b[49m\u001b[38;5;241;43m.\u001b[39;49m\u001b[43mconnect\u001b[49m\u001b[43m(\u001b[49m\u001b[43maddr\u001b[49m\u001b[43m)\u001b[49m\n\u001b[0;32m    387\u001b[0m \u001b[38;5;66;03m# Break out of the loop on success\u001b[39;00m\n\u001b[0;32m    388\u001b[0m \u001b[38;5;28;01mbreak\u001b[39;00m\n",
      "\u001b[1;31mTimeoutError\u001b[0m: [WinError 10060] Une tentative de connexion a échoué car le parti connecté n’a pas répondu convenablement au-delà d’une certaine durée ou une connexion établie a échoué car l’hôte de connexion n’a pas répondu"
     ]
    }
   ],
   "source": [
    "flight = opensky.history(\n",
    "    \"2017-02-05 15:45\",\n",
    "    stop=\"2017-02-05 16:45\",\n",
    "    callsign=\"EZY158T\",\n",
    "    # returns a Flight instead of a Traffic\n",
    "    return_flight=True\n",
    ")\n"
   ]
  },
  {
   "cell_type": "code",
   "execution_count": null,
   "id": "39e18b8c-0b9f-4e18-b275-e4e545a35264",
   "metadata": {
    "tags": []
   },
   "outputs": [],
   "source": [
    "flights"
   ]
  },
  {
   "cell_type": "code",
   "execution_count": 25,
   "id": "e6be7097-57ac-4323-ab5c-2d5e3b174540",
   "metadata": {
    "tags": []
   },
   "outputs": [],
   "source": [
    "opensky_2019=opensky_extract.copy()"
   ]
  },
  {
   "cell_type": "code",
   "execution_count": 26,
   "id": "f01b332f-82a0-4bdb-bd16-94173eadd823",
   "metadata": {},
   "outputs": [
    {
     "name": "stdout",
     "output_type": "stream",
     "text": [
      "0.0% of flights deleted after removing flights with no origin and destination. 31218164 Flights in the dataset\n"
     ]
    },
    {
     "name": "stderr",
     "output_type": "stream",
     "text": [
      "C:\\Users\\a.salgas.ISAE-SUPAERO\\AppData\\Local\\Temp\\ipykernel_20284\\2013967345.py:17: DtypeWarning: Columns (7) have mixed types. Specify dtype option on import or set low_memory=False.\n",
      "  ac_ref=pd.read_csv('../04_bis_opensky_standalone/data/aircraft-database-complete-2022-05.csv', sep=';')\n"
     ]
    },
    {
     "name": "stdout",
     "output_type": "stream",
     "text": [
      "Size of df after_grouping: 2150912; number of flights: 31218164\n",
      "Size of df after ac info: 2150912; number of flights 31218164\n",
      "Size of df after arpt info: 2150912, number of flights: 31218164\n"
     ]
    }
   ],
   "source": [
    "keep_time=False\n",
    "\n",
    "\n",
    "# selecting only the columns interesting us\n",
    "opensky_2019 = opensky_2019.loc[:, ['day', 'destination', 'origin', 'icao24']]\n",
    "# Drop flight with no known origin and destination (mandatory because of our computation method)\n",
    "size_before_drops = len(opensky_2019.index)\n",
    "# opensky_2019.dropna(subset=[\"destination\", \"origin\"], inplace=True)\n",
    "size_after_drops = len(opensky_2019.index)\n",
    "print('{}% of flights deleted after removing '\n",
    "    'flights with no origin and destination. {} Flights in the dataset'.format(\n",
    "        (size_before_drops - size_after_drops) / size_before_drops * 100, size_after_drops))\n",
    "\n",
    "# Opensky only gets aircraft transponder code, not its registration.\n",
    "# Hopefully, it can be merged with an aircraft database, for example opensky aircraft database\n",
    "\n",
    "ac_ref=pd.read_csv('../04_bis_opensky_standalone/data/aircraft-database-complete-2022-05.csv', sep=';')\n",
    "\n",
    "\n",
    " # Even if each aircraft has a unique icao24 code, some are present several times in the database.\n",
    "# Duplicates are therefore dropped before merging the dataframes.\n",
    "ac_ref = ac_ref[['icao24', 'typecode', 'operator_os', 'operatoricao']].drop_duplicates(subset='icao24',\n",
    "                                                                                       keep='last')\n",
    "opensky_2019 = pd.merge(opensky_2019, ac_ref, left_on='icao24', right_on='icao24', how='left', sort=False)\n",
    "\n",
    "# we use ailine ICAO code, but it is named IATA in the following for compatibility reasons\n",
    "opensky_2019.rename(columns={\"operatoricao\": \"airline_iata\",\n",
    "                        \"typecode\": \"aircraft_type\"}, inplace=True)\n",
    "# opensky_2019.aircraft_type = opensky_2019.aircraft_type.replace(\"ZZZZ\", \"zzz\")\n",
    "opensky_2019.aircraft_type.fillna('Unkwown', inplace=True)\n",
    "opensky_2019.airline_iata.fillna('Unkwown', inplace=True)\n",
    "\n",
    "# # Counting flight per aircraft type /route/airline each month\n",
    "if keep_time:\n",
    "    # Converting dates to a suitable format\n",
    "    opensky_2019['year'] = opensky_2019.apply(lambda x: get_month_year(x['day'])[0], axis=1)\n",
    "    opensky_2019['month'] = opensky_2019.apply(lambda x: get_month_year(x['day'])[1], axis=1)\n",
    "\n",
    "    opensky_2019 = opensky_2019.groupby(\n",
    "        ['airline_iata', 'origin', 'destination', 'aircraft_type', 'month', 'year'],\n",
    "        as_index=False, dropna=False).size()\n",
    "else:\n",
    "    # allows to significantly reduce the size of the data by eliminating the temporal variables\n",
    "    #         by aggregating whole dataframe values\n",
    "    opensky_2019 = opensky_2019.groupby(\n",
    "        ['airline_iata', 'origin', 'destination', 'aircraft_type'],\n",
    "        as_index=False, dropna=False).size()\n",
    "\n",
    "opensky_2019.rename(columns={\"size\": \"n_flights\"}, inplace=True)\n",
    "print(\n",
    "    'Size of df after_grouping: {}; number of flights: {}'.format(len(opensky_2019.index), opensky_2019.n_flights.sum()))\n",
    "\n",
    "\n",
    "ac_cla = pd.read_csv('../03_routes_schedule/data/open_sky/aircraft_classification.csv', sep=';')\n",
    "opensky_2019 = opensky_2019.merge(ac_cla, left_on='aircraft_type', right_on='aircraft_osky', how='left')\n",
    "opensky_2019.drop(columns=['aircraft_osky'], inplace=True)\n",
    "\n",
    "opensky_2019.acft_icao.fillna('Unknown', inplace=True)\n",
    "opensky_2019.acft_class.fillna('Unknown', inplace=True)\n",
    "opensky_2019.seymour_proxy.fillna('zzz', inplace=True)\n",
    "\n",
    "print('Size of df after ac info: {}; number of flights {}'.format(len(opensky_2019.index), opensky_2019.n_flights.sum()))\n",
    "\n",
    "# similarly, we merge an airport database to have info on airport iata designator, and gps coordinates.\n",
    "# All major airports have IATA designator.\n",
    "\n",
    "arpt_ref = pd.read_csv('../03_routes_schedule/data/ourairports.csv', sep=';', keep_default_na=False, na_values='')\n",
    "\n",
    "opensky_2019 = opensky_2019.merge(arpt_ref[['ident', 'iata_code', 'longitude_deg',\n",
    "                                  'latitude_deg', 'iso_country', 'continent']], left_on='origin',\n",
    "                        right_on='ident', how='left', sort=False)\n",
    "opensky_2019.rename(columns={'longitude_deg': 'origin_lon', 'latitude_deg': 'origin_lat',\n",
    "                        'iso_country': 'origin_country', 'continent': \"origin_continent\",\n",
    "                        \"iata_code\": \"origin_iata\"}, inplace=True)\n",
    "\n",
    "opensky_2019[['origin_lon', 'origin_lat',\n",
    "                        'origin_country', \"origin_continent\",\n",
    "                        \"origin_iata\"]]=opensky_2019[['origin_lon', 'origin_lat',\n",
    "                        'origin_country', \"origin_continent\",\n",
    "                        \"origin_iata\"]].fillna('Unknown Origin')\n",
    "\n",
    "opensky_2019 = opensky_2019.merge(arpt_ref[['ident', 'iata_code', 'longitude_deg',\n",
    "                                  'latitude_deg', 'iso_country', 'continent']], left_on='destination',\n",
    "                        right_on='ident', how='left', sort=False)\n",
    "opensky_2019.rename(columns={'destination':'dest','longitude_deg': 'dest_lon', 'latitude_deg': 'dest_lat',\n",
    "                        'iso_country': 'dest_country', 'continent': \"dest_continent\", \"iata_code\": \"dest_iata\"},\n",
    "               inplace=True)\n",
    "\n",
    "opensky_2019[['dest_lon', 'dest_lat',\n",
    "                        'dest_country', \"dest_continent\",\n",
    "                        \"dest_iata\"]]=opensky_2019[['dest_lon', 'dest_lat',\n",
    "                        'dest_country', \"dest_continent\",\n",
    "                        \"dest_iata\"]].fillna('Unknown Destination')\n",
    "\n",
    "opensky_2019.drop(\n",
    "    columns=['ident_x', 'ident_y'], inplace=True)\n",
    "\n",
    "\n",
    "opensky_2019.dropna(subset=[\"dest_lon\", \"origin_lon\", \"dest_lat\", \"origin_lat\"], inplace=True)\n",
    "\n",
    "print(\n",
    "    'Size of df after arpt info: {}, number of flights: {}'.format(len(opensky_2019.index), opensky_2019.n_flights.sum()))\n"
   ]
  },
  {
   "cell_type": "code",
   "execution_count": 27,
   "id": "6d762e84-80e0-4a47-a0d2-b24f033c7b1d",
   "metadata": {
    "tags": []
   },
   "outputs": [
    {
     "data": {
      "text/html": [
       "<div>\n",
       "<style scoped>\n",
       "    .dataframe tbody tr th:only-of-type {\n",
       "        vertical-align: middle;\n",
       "    }\n",
       "\n",
       "    .dataframe tbody tr th {\n",
       "        vertical-align: top;\n",
       "    }\n",
       "\n",
       "    .dataframe thead th {\n",
       "        text-align: right;\n",
       "    }\n",
       "</style>\n",
       "<table border=\"1\" class=\"dataframe\">\n",
       "  <thead>\n",
       "    <tr style=\"text-align: right;\">\n",
       "      <th></th>\n",
       "      <th>airline_iata</th>\n",
       "      <th>origin</th>\n",
       "      <th>dest</th>\n",
       "      <th>aircraft_type</th>\n",
       "      <th>n_flights</th>\n",
       "      <th>acft_icao</th>\n",
       "      <th>acft_class</th>\n",
       "      <th>seymour_proxy</th>\n",
       "      <th>origin_iata</th>\n",
       "      <th>origin_lon</th>\n",
       "      <th>origin_lat</th>\n",
       "      <th>origin_country</th>\n",
       "      <th>origin_continent</th>\n",
       "      <th>dest_iata</th>\n",
       "      <th>dest_lon</th>\n",
       "      <th>dest_lat</th>\n",
       "      <th>dest_country</th>\n",
       "      <th>dest_continent</th>\n",
       "    </tr>\n",
       "  </thead>\n",
       "  <tbody>\n",
       "    <tr>\n",
       "      <th>0</th>\n",
       "      <td>AAB</td>\n",
       "      <td>BIRK</td>\n",
       "      <td>NaN</td>\n",
       "      <td>CL35</td>\n",
       "      <td>1</td>\n",
       "      <td>CL35</td>\n",
       "      <td>PJ</td>\n",
       "      <td>zzz</td>\n",
       "      <td>RKV</td>\n",
       "      <td>-21.940599</td>\n",
       "      <td>64.129997</td>\n",
       "      <td>IS</td>\n",
       "      <td>EU</td>\n",
       "      <td>Unknown Destination</td>\n",
       "      <td>Unknown Destination</td>\n",
       "      <td>Unknown Destination</td>\n",
       "      <td>Unknown Destination</td>\n",
       "      <td>Unknown Destination</td>\n",
       "    </tr>\n",
       "    <tr>\n",
       "      <th>1</th>\n",
       "      <td>AAB</td>\n",
       "      <td>EBAW</td>\n",
       "      <td>EBMB</td>\n",
       "      <td>CL35</td>\n",
       "      <td>1</td>\n",
       "      <td>CL35</td>\n",
       "      <td>PJ</td>\n",
       "      <td>zzz</td>\n",
       "      <td>ANR</td>\n",
       "      <td>4.46028</td>\n",
       "      <td>51.1894</td>\n",
       "      <td>BE</td>\n",
       "      <td>EU</td>\n",
       "      <td>Unknown Destination</td>\n",
       "      <td>4.49</td>\n",
       "      <td>50.913</td>\n",
       "      <td>BE</td>\n",
       "      <td>EU</td>\n",
       "    </tr>\n",
       "    <tr>\n",
       "      <th>2</th>\n",
       "      <td>AAB</td>\n",
       "      <td>EBAW</td>\n",
       "      <td>EDDN</td>\n",
       "      <td>CL35</td>\n",
       "      <td>1</td>\n",
       "      <td>CL35</td>\n",
       "      <td>PJ</td>\n",
       "      <td>zzz</td>\n",
       "      <td>ANR</td>\n",
       "      <td>4.46028</td>\n",
       "      <td>51.1894</td>\n",
       "      <td>BE</td>\n",
       "      <td>EU</td>\n",
       "      <td>NUE</td>\n",
       "      <td>11.078056</td>\n",
       "      <td>49.498699</td>\n",
       "      <td>DE</td>\n",
       "      <td>EU</td>\n",
       "    </tr>\n",
       "    <tr>\n",
       "      <th>3</th>\n",
       "      <td>AAB</td>\n",
       "      <td>EBAW</td>\n",
       "      <td>EGLF</td>\n",
       "      <td>CL35</td>\n",
       "      <td>1</td>\n",
       "      <td>CL35</td>\n",
       "      <td>PJ</td>\n",
       "      <td>zzz</td>\n",
       "      <td>ANR</td>\n",
       "      <td>4.46028</td>\n",
       "      <td>51.1894</td>\n",
       "      <td>BE</td>\n",
       "      <td>EU</td>\n",
       "      <td>FAB</td>\n",
       "      <td>-0.776333</td>\n",
       "      <td>51.275799</td>\n",
       "      <td>GB</td>\n",
       "      <td>EU</td>\n",
       "    </tr>\n",
       "    <tr>\n",
       "      <th>4</th>\n",
       "      <td>AAB</td>\n",
       "      <td>EBAW</td>\n",
       "      <td>NaN</td>\n",
       "      <td>CL35</td>\n",
       "      <td>1</td>\n",
       "      <td>CL35</td>\n",
       "      <td>PJ</td>\n",
       "      <td>zzz</td>\n",
       "      <td>ANR</td>\n",
       "      <td>4.46028</td>\n",
       "      <td>51.1894</td>\n",
       "      <td>BE</td>\n",
       "      <td>EU</td>\n",
       "      <td>Unknown Destination</td>\n",
       "      <td>Unknown Destination</td>\n",
       "      <td>Unknown Destination</td>\n",
       "      <td>Unknown Destination</td>\n",
       "      <td>Unknown Destination</td>\n",
       "    </tr>\n",
       "    <tr>\n",
       "      <th>...</th>\n",
       "      <td>...</td>\n",
       "      <td>...</td>\n",
       "      <td>...</td>\n",
       "      <td>...</td>\n",
       "      <td>...</td>\n",
       "      <td>...</td>\n",
       "      <td>...</td>\n",
       "      <td>...</td>\n",
       "      <td>...</td>\n",
       "      <td>...</td>\n",
       "      <td>...</td>\n",
       "      <td>...</td>\n",
       "      <td>...</td>\n",
       "      <td>...</td>\n",
       "      <td>...</td>\n",
       "      <td>...</td>\n",
       "      <td>...</td>\n",
       "      <td>...</td>\n",
       "    </tr>\n",
       "    <tr>\n",
       "      <th>2150907</th>\n",
       "      <td>bfx</td>\n",
       "      <td>NaN</td>\n",
       "      <td>LIMN</td>\n",
       "      <td>PRM1</td>\n",
       "      <td>1</td>\n",
       "      <td>PRM1</td>\n",
       "      <td>PJ</td>\n",
       "      <td>zzz</td>\n",
       "      <td>Unknown Origin</td>\n",
       "      <td>Unknown Origin</td>\n",
       "      <td>Unknown Origin</td>\n",
       "      <td>Unknown Origin</td>\n",
       "      <td>Unknown Origin</td>\n",
       "      <td>Unknown Destination</td>\n",
       "      <td>8.66922</td>\n",
       "      <td>45.529598</td>\n",
       "      <td>IT</td>\n",
       "      <td>EU</td>\n",
       "    </tr>\n",
       "    <tr>\n",
       "      <th>2150908</th>\n",
       "      <td>bfx</td>\n",
       "      <td>NaN</td>\n",
       "      <td>LOWW</td>\n",
       "      <td>PRM1</td>\n",
       "      <td>1</td>\n",
       "      <td>PRM1</td>\n",
       "      <td>PJ</td>\n",
       "      <td>zzz</td>\n",
       "      <td>Unknown Origin</td>\n",
       "      <td>Unknown Origin</td>\n",
       "      <td>Unknown Origin</td>\n",
       "      <td>Unknown Origin</td>\n",
       "      <td>Unknown Origin</td>\n",
       "      <td>VIE</td>\n",
       "      <td>16.5697</td>\n",
       "      <td>48.110298</td>\n",
       "      <td>AT</td>\n",
       "      <td>EU</td>\n",
       "    </tr>\n",
       "    <tr>\n",
       "      <th>2150909</th>\n",
       "      <td>bfx</td>\n",
       "      <td>NaN</td>\n",
       "      <td>LSZH</td>\n",
       "      <td>PRM1</td>\n",
       "      <td>1</td>\n",
       "      <td>PRM1</td>\n",
       "      <td>PJ</td>\n",
       "      <td>zzz</td>\n",
       "      <td>Unknown Origin</td>\n",
       "      <td>Unknown Origin</td>\n",
       "      <td>Unknown Origin</td>\n",
       "      <td>Unknown Origin</td>\n",
       "      <td>Unknown Origin</td>\n",
       "      <td>ZRH</td>\n",
       "      <td>8.548056</td>\n",
       "      <td>47.458056</td>\n",
       "      <td>CH</td>\n",
       "      <td>EU</td>\n",
       "    </tr>\n",
       "    <tr>\n",
       "      <th>2150910</th>\n",
       "      <td>bfx</td>\n",
       "      <td>NaN</td>\n",
       "      <td>UKKK</td>\n",
       "      <td>PRM1</td>\n",
       "      <td>1</td>\n",
       "      <td>PRM1</td>\n",
       "      <td>PJ</td>\n",
       "      <td>zzz</td>\n",
       "      <td>Unknown Origin</td>\n",
       "      <td>Unknown Origin</td>\n",
       "      <td>Unknown Origin</td>\n",
       "      <td>Unknown Origin</td>\n",
       "      <td>Unknown Origin</td>\n",
       "      <td>IEV</td>\n",
       "      <td>30.45194</td>\n",
       "      <td>50.40194</td>\n",
       "      <td>UA</td>\n",
       "      <td>EU</td>\n",
       "    </tr>\n",
       "    <tr>\n",
       "      <th>2150911</th>\n",
       "      <td>bfx</td>\n",
       "      <td>NaN</td>\n",
       "      <td>NaN</td>\n",
       "      <td>PRM1</td>\n",
       "      <td>3</td>\n",
       "      <td>PRM1</td>\n",
       "      <td>PJ</td>\n",
       "      <td>zzz</td>\n",
       "      <td>Unknown Origin</td>\n",
       "      <td>Unknown Origin</td>\n",
       "      <td>Unknown Origin</td>\n",
       "      <td>Unknown Origin</td>\n",
       "      <td>Unknown Origin</td>\n",
       "      <td>Unknown Destination</td>\n",
       "      <td>Unknown Destination</td>\n",
       "      <td>Unknown Destination</td>\n",
       "      <td>Unknown Destination</td>\n",
       "      <td>Unknown Destination</td>\n",
       "    </tr>\n",
       "  </tbody>\n",
       "</table>\n",
       "<p>2150912 rows × 18 columns</p>\n",
       "</div>"
      ],
      "text/plain": [
       "        airline_iata origin  dest aircraft_type  n_flights acft_icao  \\\n",
       "0                AAB   BIRK   NaN          CL35          1      CL35   \n",
       "1                AAB   EBAW  EBMB          CL35          1      CL35   \n",
       "2                AAB   EBAW  EDDN          CL35          1      CL35   \n",
       "3                AAB   EBAW  EGLF          CL35          1      CL35   \n",
       "4                AAB   EBAW   NaN          CL35          1      CL35   \n",
       "...              ...    ...   ...           ...        ...       ...   \n",
       "2150907          bfx    NaN  LIMN          PRM1          1      PRM1   \n",
       "2150908          bfx    NaN  LOWW          PRM1          1      PRM1   \n",
       "2150909          bfx    NaN  LSZH          PRM1          1      PRM1   \n",
       "2150910          bfx    NaN  UKKK          PRM1          1      PRM1   \n",
       "2150911          bfx    NaN   NaN          PRM1          3      PRM1   \n",
       "\n",
       "        acft_class seymour_proxy     origin_iata      origin_lon  \\\n",
       "0               PJ           zzz             RKV      -21.940599   \n",
       "1               PJ           zzz             ANR         4.46028   \n",
       "2               PJ           zzz             ANR         4.46028   \n",
       "3               PJ           zzz             ANR         4.46028   \n",
       "4               PJ           zzz             ANR         4.46028   \n",
       "...            ...           ...             ...             ...   \n",
       "2150907         PJ           zzz  Unknown Origin  Unknown Origin   \n",
       "2150908         PJ           zzz  Unknown Origin  Unknown Origin   \n",
       "2150909         PJ           zzz  Unknown Origin  Unknown Origin   \n",
       "2150910         PJ           zzz  Unknown Origin  Unknown Origin   \n",
       "2150911         PJ           zzz  Unknown Origin  Unknown Origin   \n",
       "\n",
       "             origin_lat  origin_country origin_continent            dest_iata  \\\n",
       "0             64.129997              IS               EU  Unknown Destination   \n",
       "1               51.1894              BE               EU  Unknown Destination   \n",
       "2               51.1894              BE               EU                  NUE   \n",
       "3               51.1894              BE               EU                  FAB   \n",
       "4               51.1894              BE               EU  Unknown Destination   \n",
       "...                 ...             ...              ...                  ...   \n",
       "2150907  Unknown Origin  Unknown Origin   Unknown Origin  Unknown Destination   \n",
       "2150908  Unknown Origin  Unknown Origin   Unknown Origin                  VIE   \n",
       "2150909  Unknown Origin  Unknown Origin   Unknown Origin                  ZRH   \n",
       "2150910  Unknown Origin  Unknown Origin   Unknown Origin                  IEV   \n",
       "2150911  Unknown Origin  Unknown Origin   Unknown Origin  Unknown Destination   \n",
       "\n",
       "                    dest_lon             dest_lat         dest_country  \\\n",
       "0        Unknown Destination  Unknown Destination  Unknown Destination   \n",
       "1                       4.49               50.913                   BE   \n",
       "2                  11.078056            49.498699                   DE   \n",
       "3                  -0.776333            51.275799                   GB   \n",
       "4        Unknown Destination  Unknown Destination  Unknown Destination   \n",
       "...                      ...                  ...                  ...   \n",
       "2150907              8.66922            45.529598                   IT   \n",
       "2150908              16.5697            48.110298                   AT   \n",
       "2150909             8.548056            47.458056                   CH   \n",
       "2150910             30.45194             50.40194                   UA   \n",
       "2150911  Unknown Destination  Unknown Destination  Unknown Destination   \n",
       "\n",
       "              dest_continent  \n",
       "0        Unknown Destination  \n",
       "1                         EU  \n",
       "2                         EU  \n",
       "3                         EU  \n",
       "4        Unknown Destination  \n",
       "...                      ...  \n",
       "2150907                   EU  \n",
       "2150908                   EU  \n",
       "2150909                   EU  \n",
       "2150910                   EU  \n",
       "2150911  Unknown Destination  \n",
       "\n",
       "[2150912 rows x 18 columns]"
      ]
     },
     "execution_count": 27,
     "metadata": {},
     "output_type": "execute_result"
    }
   ],
   "source": [
    "os_df=opensky_2019.copy()\n",
    "\n",
    "os_df"
   ]
  },
  {
   "cell_type": "code",
   "execution_count": 28,
   "id": "12ad21ac-066b-4fdc-bb64-2b62b36ae9e4",
   "metadata": {},
   "outputs": [],
   "source": [
    "fleet=pd.read_excel('data/planespotters_fleet.xlsx')\n",
    "fleet['Seat Total']=fleet['Seat Total'].replace(0, np.nan)\n",
    "fleet.dropna(subset=['Seat Total'], inplace=True)\n",
    "\n",
    "# Adding the name/icao code match table\n",
    "match=pd.read_csv('data/fleet_match.csv', sep=';')\n",
    "fleet=fleet.merge(match, left_on='Aircraft Type', right_on='spotter_name', how='right').drop(columns='spotter_name')\n",
    "\n",
    "aircraft_data=fleet.groupby(['Aircraft Type','ICAO_AC'])['Seat Total'].mean().reset_index().drop(columns='Aircraft Type')"
   ]
  },
  {
   "cell_type": "code",
   "execution_count": 29,
   "id": "a63fc218-af5d-40a4-8975-7d78d029bd0c",
   "metadata": {
    "tags": []
   },
   "outputs": [
    {
     "data": {
      "text/html": [
       "<div>\n",
       "<style scoped>\n",
       "    .dataframe tbody tr th:only-of-type {\n",
       "        vertical-align: middle;\n",
       "    }\n",
       "\n",
       "    .dataframe tbody tr th {\n",
       "        vertical-align: top;\n",
       "    }\n",
       "\n",
       "    .dataframe thead th {\n",
       "        text-align: right;\n",
       "    }\n",
       "</style>\n",
       "<table border=\"1\" class=\"dataframe\">\n",
       "  <thead>\n",
       "    <tr style=\"text-align: right;\">\n",
       "      <th></th>\n",
       "      <th>ICAO_AC</th>\n",
       "      <th>Seat Total</th>\n",
       "    </tr>\n",
       "  </thead>\n",
       "  <tbody>\n",
       "    <tr>\n",
       "      <th>0</th>\n",
       "      <td>AT43</td>\n",
       "      <td>46.897119</td>\n",
       "    </tr>\n",
       "    <tr>\n",
       "      <th>1</th>\n",
       "      <td>AT45</td>\n",
       "      <td>46.897119</td>\n",
       "    </tr>\n",
       "    <tr>\n",
       "      <th>2</th>\n",
       "      <td>AT72</td>\n",
       "      <td>70.137580</td>\n",
       "    </tr>\n",
       "    <tr>\n",
       "      <th>3</th>\n",
       "      <td>AT75</td>\n",
       "      <td>70.137580</td>\n",
       "    </tr>\n",
       "    <tr>\n",
       "      <th>4</th>\n",
       "      <td>AT76</td>\n",
       "      <td>70.137580</td>\n",
       "    </tr>\n",
       "  </tbody>\n",
       "</table>\n",
       "</div>"
      ],
      "text/plain": [
       "  ICAO_AC  Seat Total\n",
       "0    AT43   46.897119\n",
       "1    AT45   46.897119\n",
       "2    AT72   70.137580\n",
       "3    AT75   70.137580\n",
       "4    AT76   70.137580"
      ]
     },
     "execution_count": 29,
     "metadata": {},
     "output_type": "execute_result"
    }
   ],
   "source": [
    "aircraft_data.head()"
   ]
  },
  {
   "cell_type": "code",
   "execution_count": 30,
   "id": "e5b0c2af-8d1e-457a-8073-cafa86367d6f",
   "metadata": {
    "tags": []
   },
   "outputs": [],
   "source": [
    "os_df=os_df.merge(aircraft_data, left_on='acft_icao', right_on='ICAO_AC', how='left')\n",
    "os_df['Seat Total']=os_df['n_flights']*os_df['Seat Total']\n",
    "os_df=os_df.groupby(['origin','dest','origin_iata','origin_lon','origin_lat','origin_country','origin_continent','dest_iata','dest_lon','dest_lat','dest_country','dest_continent','airline_iata','acft_icao','acft_class','seymour_proxy'])[['Seat Total','n_flights']].sum().reset_index().rename(columns={'Seat Total':'seats'})"
   ]
  },
  {
   "cell_type": "code",
   "execution_count": 31,
   "id": "a3c8f715-b5c9-499b-95ca-1014846e0171",
   "metadata": {
    "tags": []
   },
   "outputs": [],
   "source": [
    "column_mapping = {\n",
    "    'origin_iata': 'iata_departure',\n",
    "    'dest_iata': 'iata_arrival',\n",
    "    'origin_lon': 'departure_lon',\n",
    "    'origin_lat': 'departure_lat',\n",
    "    'origin_country': 'departure_country',\n",
    "    'origin_continent': 'departure_continent',\n",
    "    'dest_lon': 'arrival_lon',\n",
    "    'dest_lat': 'arrival_lat',\n",
    "    'dest_country': 'arrival_country',\n",
    "    'dest_continent': 'arrival_continent'\n",
    "}                          \n",
    "\n",
    "\n",
    "os_df.rename(columns=column_mapping, inplace=True)\n",
    "os_df['source']='OpenSky'"
   ]
  },
  {
   "cell_type": "code",
   "execution_count": 32,
   "id": "1814ff72-32d5-4649-a796-53b309956f43",
   "metadata": {
    "tags": []
   },
   "outputs": [],
   "source": [
    "iata_icao_convert=pd.read_csv('data/iata_icao_airline.csv', sep=';')\n",
    "iata_icao_convert=iata_icao_convert.sort_values(by=['IATA'], ascending=False).drop_duplicates(subset='ICAO', keep='first')"
   ]
  },
  {
   "cell_type": "code",
   "execution_count": 33,
   "id": "b0845752-ac03-4ed3-8a2f-5bc9540af4a6",
   "metadata": {
    "tags": []
   },
   "outputs": [],
   "source": [
    "os_df=os_df.merge(iata_icao_convert[['IATA','ICAO']], left_on='airline_iata', right_on='ICAO', how='left')"
   ]
  },
  {
   "cell_type": "code",
   "execution_count": 34,
   "id": "141a0ed4-c5cf-4cee-93fd-05eeea01c21c",
   "metadata": {
    "tags": []
   },
   "outputs": [],
   "source": [
    "os_df['IATA']=os_df['IATA'].fillna(os_df['airline_iata'])\n",
    "os_df=os_df.drop(columns=['airline_iata','ICAO']).rename(columns={'IATA':'airline_iata'})"
   ]
  },
  {
   "cell_type": "code",
   "execution_count": null,
   "id": "4ce18335-2d80-4b4a-a0a7-d88d7eb74b01",
   "metadata": {
    "tags": []
   },
   "outputs": [
    {
     "data": {
      "application/vnd.jupyter.widget-view+json": {
       "model_id": "fa35f9f089b6461faacbb64fb6f36851",
       "version_major": 2,
       "version_minor": 0
      },
      "text/plain": [
       "  0%|          | 0/1796462 [00:00<?, ?it/s]"
      ]
     },
     "metadata": {},
     "output_type": "display_data"
    }
   ],
   "source": [
    "os_df.loc[:, \"distance_km\"] = os_df.progress_apply(\n",
    "            lambda x: distance.distance((float(x.departure_lat), float(x.departure_lon)),\n",
    "                                        (float(x.arrival_lat), float(x.arrival_lon))).km if not (pd.isna(x.departure_lat) or pd.isna(x.departure_lon) or \n",
    "                                                                                                 (x.departure_lat=='Unknown Origin') or (x.departure_lon=='Unknown Origin')\n",
    "                                                                                           or pd.isna(x.arrival_lon) or pd.isna(x.arrival_lat) or\n",
    "                                                                                                (x.arrival_lat=='Unknown Destination') or (x.arrival_lon=='Unknown Destination')\n",
    "                                                                                                ) else 0, axis=1)\n"
   ]
  },
  {
   "cell_type": "code",
   "execution_count": null,
   "id": "c495b7b7-3082-4305-ac3f-203b8ad8fe02",
   "metadata": {
    "tags": []
   },
   "outputs": [],
   "source": [
    "os_df\n",
    "os_df['ask'] = os_df[\"distance_km\"]*os_df[\"seats\"]\n",
    "os_df['rpk'] = os_df['ask']*0.824"
   ]
  },
  {
   "cell_type": "markdown",
   "id": "9dce30c2-e5cb-4aa2-a843-435181a301df",
   "metadata": {},
   "source": [
    "Load factor source: https://www.icao.int/annual-report-2019/Pages/the-world-of-air-transport-in-2019.aspx"
   ]
  },
  {
   "cell_type": "code",
   "execution_count": null,
   "id": "0b675f73-8660-4961-8929-eb1fab4b1a6d",
   "metadata": {
    "tags": []
   },
   "outputs": [],
   "source": [
    "os_df['seats'].sum()"
   ]
  },
  {
   "cell_type": "markdown",
   "id": "e403d0d5-fa73-477c-b23b-4ec35f9b4002",
   "metadata": {},
   "source": [
    "## Fuel burn computation process\n",
    "\n",
    "Problem: we do not have a seymour proxi for all the aircraft types neither do we have the seats associated to each aircrfat like in AeroSCOPE core usage. \n",
    "One could extend the proxi list, but it is not without increasing the risk of errors.  \n",
    "Helicopters are particularly often in this case as shown below, followed py piston private and private jets and few turbo props.  \n",
    "Fortunately, this is not the majority of the flights.\n",
    "\n",
    "If the interested reader is willing to increase the proxy list for a particular use case, he is free to do so ;) "
   ]
  },
  {
   "cell_type": "code",
   "execution_count": null,
   "id": "5a6803fb-cea6-40c7-974d-9f142298bbf9",
   "metadata": {},
   "outputs": [],
   "source": [
    "os_df[os_df.seymour_proxy=='zzz'].groupby('acft_class')['n_flights'].sum().nlargest(50)"
   ]
  },
  {
   "cell_type": "code",
   "execution_count": null,
   "id": "3f17ae6c-0112-4df8-8761-93963d3860e4",
   "metadata": {
    "tags": []
   },
   "outputs": [],
   "source": [
    "os_df[os_df.seymour_proxy!='zzz'].groupby('acft_class')['n_flights'].sum().nlargest(50)"
   ]
  },
  {
   "cell_type": "markdown",
   "id": "649508b6-662f-40af-851c-c70ddf68f114",
   "metadata": {},
   "source": [
    "Now, let's compute the fuel burn using the surrogate."
   ]
  },
  {
   "cell_type": "code",
   "execution_count": null,
   "id": "3402773f-9e74-4f1f-99df-bf733cd84d64",
   "metadata": {
    "tags": []
   },
   "outputs": [],
   "source": [
    "fuel_surrogate = pd.read_csv('data/FuelSurrogate.csv', sep=';')\n",
    "fuel_surrogate_dict=fuel_surrogate[['ac_code_icao',\"reduced_fuel_intercept\",\"reduced_fuel_a1\",\"reduced_fuel_a2\"]].set_index('ac_code_icao').transpose().to_dict()\n",
    "ac_list=fuel_surrogate['ac_code_icao'].unique()\n",
    "\n",
    "\n",
    "def compute_fuel_seymour(fuel_surrogate_dict, icao_type, distance):\n",
    "    if icao_type in ac_list and distance > 1:\n",
    "        coefficients = fuel_surrogate_dict[icao_type]\n",
    "        fuel_burn = coefficients['reduced_fuel_intercept'] + coefficients['reduced_fuel_a2'] * distance + coefficients['reduced_fuel_a1'] * distance ** 2\n",
    "    elif distance < 1:\n",
    "        fuel_burn = 0\n",
    "    else:\n",
    "        fuel_burn = np.nan\n",
    "    return float(fuel_burn)\n",
    "\n",
    "\n",
    "os_df.loc[:, \"fuel_burn_seymour\"] = os_df.progress_apply(\n",
    "                lambda x: compute_fuel_seymour(fuel_surrogate_dict, x[\"seymour_proxy\"], x[\"distance_km\"]),\n",
    "                axis=1)"
   ]
  },
  {
   "cell_type": "code",
   "execution_count": null,
   "id": "43179e9e-48e4-4800-a021-74d96735dcf1",
   "metadata": {
    "tags": []
   },
   "outputs": [],
   "source": [
    "os_df"
   ]
  },
  {
   "cell_type": "code",
   "execution_count": null,
   "id": "08b782b0-efc0-4bce-853d-e759ecdf108d",
   "metadata": {
    "tags": []
   },
   "outputs": [],
   "source": [
    "os_df['fuel_burn']=os_df['fuel_burn_seymour']*os_df['n_flights']\n",
    "os_df['co2']=os_df['fuel_burn']*3.16\n",
    "\n",
    "os_df['domestic']=(os_df.departure_country == os_df.arrival_country).astype(int)"
   ]
  },
  {
   "cell_type": "code",
   "execution_count": null,
   "id": "25116547-9303-43b6-b5fe-e70b57890873",
   "metadata": {
    "tags": []
   },
   "outputs": [],
   "source": [
    "os_df.to_csv('data/os_alone_test.csv')"
   ]
  },
  {
   "cell_type": "code",
   "execution_count": null,
   "id": "4f3801e8-66d8-47ca-bce5-62e8dbc1e1a4",
   "metadata": {},
   "outputs": [],
   "source": []
  }
 ],
 "metadata": {
  "kernelspec": {
   "display_name": "Python 3 (ipykernel)",
   "language": "python",
   "name": "python3"
  },
  "language_info": {
   "codemirror_mode": {
    "name": "ipython",
    "version": 3
   },
   "file_extension": ".py",
   "mimetype": "text/x-python",
   "name": "python",
   "nbconvert_exporter": "python",
   "pygments_lexer": "ipython3",
   "version": "3.10.13"
  }
 },
 "nbformat": 4,
 "nbformat_minor": 5
}
