{
 "cells": [
  {
   "cell_type": "code",
   "execution_count": 1,
   "id": "05d1ff0b-9c4b-4016-8fa9-75a2071e9fcd",
   "metadata": {
    "tags": []
   },
   "outputs": [],
   "source": [
    "import pandas as pd\n",
    "from user_interface import UserInterface\n",
    "\n",
    "%matplotlib inline"
   ]
  },
  {
   "cell_type": "code",
   "execution_count": 2,
   "id": "2a563c62-cc38-4f3f-9124-012d0c2c34ec",
   "metadata": {
    "tags": []
   },
   "outputs": [
    {
     "data": {
      "application/vnd.jupyter.widget-view+json": {
       "model_id": "591fb5ecc30e4dd8bbab0de957e6508c",
       "version_major": 2,
       "version_minor": 0
      },
      "text/plain": [
       "Output()"
      ]
     },
     "metadata": {},
     "output_type": "display_data"
    },
    {
     "data": {
      "application/vnd.jupyter.widget-view+json": {
       "model_id": "53749e3f5a7b478db1f31dcc2fa1631c",
       "version_major": 2,
       "version_minor": 0
      },
      "text/plain": [
       "UserInterface(children=[AppBar(app=True, children=[Spacer(layout=None), ToolbarTitle(children=[Img(class_='mx-…"
      ]
     },
     "execution_count": 2,
     "metadata": {},
     "output_type": "execute_result"
    }
   ],
   "source": [
    "UserInterface(\n",
    "    use_opensky_data=False,\n",
    "    class_=\"mt-10 pa-0\",\n",
    "    # id='inspire',\n",
    "    style_=\"background-color: white; pa-0 ma-0;\",  # Set the desired background color and padding here\n",
    ")"
   ]
  },
  {
   "cell_type": "code",
   "execution_count": null,
   "id": "60422a15-58cd-4149-ae02-b29bcf58c954",
   "metadata": {},
   "outputs": [],
   "source": []
  }
 ],
 "metadata": {
  "kernelspec": {
   "display_name": "Python 3 (ipykernel)",
   "language": "python",
   "name": "python3"
  },
  "language_info": {
   "codemirror_mode": {
    "name": "ipython",
    "version": 3
   },
   "file_extension": ".py",
   "mimetype": "text/x-python",
   "name": "python",
   "nbconvert_exporter": "python",
   "pygments_lexer": "ipython3",
   "version": "3.10.13"
  }
 },
 "nbformat": 4,
 "nbformat_minor": 5
}
