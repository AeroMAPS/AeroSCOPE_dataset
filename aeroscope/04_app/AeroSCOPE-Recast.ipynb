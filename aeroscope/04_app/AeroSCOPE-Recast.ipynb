{
 "cells": [
  {
   "cell_type": "code",
   "execution_count": 1,
   "id": "05d1ff0b-9c4b-4016-8fa9-75a2071e9fcd",
   "metadata": {
    "tags": []
   },
   "outputs": [],
   "source": [
    "import pandas as pd\n",
    "from user_interface import UserInterface\n",
    "\n",
    "%matplotlib inline"
   ]
  },
  {
   "cell_type": "code",
   "execution_count": 3,
   "id": "2a563c62-cc38-4f3f-9124-012d0c2c34ec",
   "metadata": {
    "tags": []
   },
   "outputs": [
    {
     "name": "stderr",
     "output_type": "stream",
     "text": [
      "D:\\AeroSCOPE\\aeroscope\\04_app\\user_interface.py:172: DtypeWarning:\n",
      "\n",
      "Columns (1,2,4,5,9,10,31,32,33,34,35,36) have mixed types. Specify dtype option on import or set low_memory=False.\n",
      "\n",
      "D:\\AeroSCOPE\\aeroscope\\04_app\\user_interface.py:196: DtypeWarning:\n",
      "\n",
      "Columns (1,2,4,5,9,10,31,32,33,34,35,36) have mixed types. Specify dtype option on import or set low_memory=False.\n",
      "\n",
      "C:\\Users\\a.salgas.ISAE-SUPAERO\\AppData\\Local\\miniconda3\\envs\\aeroscope_OS\\lib\\site-packages\\jupyter_client\\session.py:718: UserWarning:\n",
      "\n",
      "Message serialization failed with:\n",
      "Out of range float values are not JSON compliant\n",
      "Supporting this message is deprecated in jupyter-client 7, please make sure your message is JSON-compliant\n",
      "\n"
     ]
    },
    {
     "data": {
      "application/vnd.jupyter.widget-view+json": {
       "model_id": "76cdc06b135c4a048b082f10fb02f734",
       "version_major": 2,
       "version_minor": 0
      },
      "text/plain": [
       "UserInterface(children=[AppBar(app=True, children=[Spacer(layout=None), ToolbarTitle(children=[Img(class_='mx-…"
      ]
     },
     "execution_count": 3,
     "metadata": {},
     "output_type": "execute_result"
    }
   ],
   "source": [
    "UserInterface(\n",
    "    use_opensky_data=True,\n",
    "    class_=\"mt-10 pa-0\",\n",
    "    # id='inspire',\n",
    "    style_=\"background-color: white; pa-0 ma-0;\",  # Set the desired background color and padding here\n",
    ")"
   ]
  },
  {
   "cell_type": "code",
   "execution_count": null,
   "id": "1d4c864c-4064-46f5-94a9-4c4e22978afa",
   "metadata": {},
   "outputs": [],
   "source": []
  }
 ],
 "metadata": {
  "kernelspec": {
   "display_name": "Python 3 (ipykernel)",
   "language": "python",
   "name": "python3"
  },
  "language_info": {
   "codemirror_mode": {
    "name": "ipython",
    "version": 3
   },
   "file_extension": ".py",
   "mimetype": "text/x-python",
   "name": "python",
   "nbconvert_exporter": "python",
   "pygments_lexer": "ipython3",
   "version": "3.10.13"
  }
 },
 "nbformat": 4,
 "nbformat_minor": 5
}
