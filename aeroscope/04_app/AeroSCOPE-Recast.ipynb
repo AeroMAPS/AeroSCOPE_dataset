{
 "cells": [
  {
   "cell_type": "code",
   "execution_count": 2,
   "id": "05d1ff0b-9c4b-4016-8fa9-75a2071e9fcd",
   "metadata": {
    "tags": []
   },
   "outputs": [],
   "source": [
    "import pandas as pd\n",
    "from user_interface import UserInterface\n",
    "\n",
    "%matplotlib inline"
   ]
  },
  {
   "cell_type": "code",
   "execution_count": 3,
   "id": "95e57af1-1549-456b-aa85-f832cbcc8505",
   "metadata": {
    "tags": []
   },
   "outputs": [],
   "source": [
    "#### Import various plot file. In case the source file is modified, please rerun preprocess.py ####\n",
    "\n",
    "### TODO mieux gérer\n",
    "# import preprocess\n",
    "# preprocess.preprocess(filename=\"../03_routes_schedule/data/final_16_11.csv\")\n",
    "\n",
    "from core import AeroscopeDataClass\n",
    "\n",
    "compiled_data = AeroscopeDataClass(\n",
    "    #read continental level data\n",
    "    continental_flows=pd.read_csv('./plot_files/continental_flows.csv',sep=',', keep_default_na=False, na_values=['', 'NaN'], index_col=0),\n",
    "    continental_flows_non_dir=pd.read_csv('./plot_files/continental_flows_non_dir.csv',sep=',', keep_default_na=False, na_values=['', 'NaN'], index_col=0),\n",
    "    conti_scatter=pd.read_csv('./plot_files/conti_scatter.csv',sep=',', keep_default_na=False, na_values=['', 'NaN'], index_col=0),\n",
    "    flights_df_conti=pd.read_csv('./plot_files/flights_df_conti.zip',compression='zip',sep=',', keep_default_na=False, na_values=['', 'NaN'], index_col=0),\n",
    "    #read country level data\n",
    "    country_flows=pd.read_csv('./plot_files/country_flows.csv',sep=',', keep_default_na=False, na_values=['', 'NaN'], index_col=0),\n",
    "    country_fixed=pd.read_csv('./plot_files/country_fixed.csv',sep=',', keep_default_na=False, na_values=['', 'NaN'], index_col=0),\n",
    "    #read flight_level_data\n",
    "    flights_df=pd.read_csv('./plot_files/flights_df.zip',compression='zip', sep=',',keep_default_na=False, na_values=['', 'NaN'], index_col=0),\n",
    ")\n",
    "    \n",
    "    \n",
    "# TODO create opensky data"
   ]
  },
  {
   "cell_type": "code",
   "execution_count": 4,
   "id": "2a563c62-cc38-4f3f-9124-012d0c2c34ec",
   "metadata": {
    "tags": []
   },
   "outputs": [
    {
     "data": {
      "application/vnd.jupyter.widget-view+json": {
       "model_id": "43c090e238574100b7a1d1e3ff8338fc",
       "version_major": 2,
       "version_minor": 0
      },
      "text/plain": [
       "Output()"
      ]
     },
     "metadata": {},
     "output_type": "display_data"
    },
    {
     "data": {
      "application/vnd.jupyter.widget-view+json": {
       "model_id": "71283adc8b324d019d119499ba4dedae",
       "version_major": 2,
       "version_minor": 0
      },
      "text/plain": [
       "UserInterface(children=[AppBar(app=True, children=[Spacer(layout=None), ToolbarTitle(children=[Img(class_='mx-…"
      ]
     },
     "metadata": {},
     "output_type": "display_data"
    }
   ],
   "source": [
    "UserInterface(\n",
    "    aeroscope_data=compiled_data,\n",
    "    class_=\"mt-10 pa-0\",\n",
    "    # id='inspire',\n",
    "    style_='background-color: white; pa-0 ma-0;',  # Set the desired background color and padding here\n",
    ")"
   ]
  },
  {
   "cell_type": "code",
   "execution_count": null,
   "id": "c8308429-02e0-4e96-a968-3da35dc75bd1",
   "metadata": {},
   "outputs": [],
   "source": []
  }
 ],
 "metadata": {
  "kernelspec": {
   "display_name": "Python 3 (ipykernel)",
   "language": "python",
   "name": "python3"
  },
  "language_info": {
   "codemirror_mode": {
    "name": "ipython",
    "version": 3
   },
   "file_extension": ".py",
   "mimetype": "text/x-python",
   "name": "python",
   "nbconvert_exporter": "python",
   "pygments_lexer": "ipython3",
   "version": "3.8.18"
  }
 },
 "nbformat": 4,
 "nbformat_minor": 5
}
