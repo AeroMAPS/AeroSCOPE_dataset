{
 "cells": [
  {
   "cell_type": "code",
   "execution_count": 1,
   "id": "5da37151-cb0c-42af-950f-640046c47557",
   "metadata": {},
   "outputs": [],
   "source": [
    "import geopandas as gpd\n",
    "import pandas as pd\n",
    "from tqdm import tqdm\n",
    "\n",
    "tqdm.pandas()"
   ]
  },
  {
   "cell_type": "markdown",
   "id": "fa5f8e79-f654-454e-8fd4-d006ca74dd6f",
   "metadata": {},
   "source": [
    "### Kontur population database loading\n",
    "\n",
    "Caution: runnning this could be long!"
   ]
  },
  {
   "cell_type": "code",
   "execution_count": 8,
   "id": "5da12818-8406-4447-ba30-ec6a48b7911e",
   "metadata": {
    "tags": []
   },
   "outputs": [
    {
     "data": {
      "text/plain": [
       "[slice(0, 1000000, None),\n",
       " slice(1000000, 2000000, None),\n",
       " slice(2000000, 3000000, None),\n",
       " slice(3000000, 4000000, None),\n",
       " slice(4000000, 5000000, None),\n",
       " slice(5000000, 6000000, None),\n",
       " slice(6000000, 7000000, None),\n",
       " slice(7000000, 8000000, None),\n",
       " slice(8000000, 9000000, None),\n",
       " slice(9000000, 10000000, None),\n",
       " slice(10000000, 11000000, None),\n",
       " slice(11000000, 12000000, None),\n",
       " slice(12000000, 13000000, None),\n",
       " slice(13000000, 14000000, None),\n",
       " slice(14000000, 15000000, None),\n",
       " slice(15000000, 16000000, None),\n",
       " slice(16000000, 17000000, None),\n",
       " slice(17000000, 18000000, None),\n",
       " slice(18000000, 19000000, None),\n",
       " slice(19000000, 20000000, None),\n",
       " slice(20000000, 21000000, None),\n",
       " slice(21000000, 22000000, None),\n",
       " slice(22000000, 23000000, None),\n",
       " slice(23000000, 24000000, None),\n",
       " slice(24000000, 25000000, None),\n",
       " slice(25000000, 26000000, None),\n",
       " slice(26000000, 27000000, None),\n",
       " slice(27000000, 28000000, None),\n",
       " slice(28000000, 29000000, None),\n",
       " slice(29000000, 30000000, None),\n",
       " slice(30000000, 31000000, None),\n",
       " slice(31000000, 32000000, None)]"
      ]
     },
     "execution_count": 8,
     "metadata": {},
     "output_type": "execute_result"
    }
   ],
   "source": [
    "### Chunking, last element determinet by hand dichotomy :)\n",
    "chunks = []\n",
    "for i in range(0, 32000000, 1000000):\n",
    "    chunk_start = i\n",
    "    chunk_end = i + 1000000\n",
    "    chunks.append(slice(chunk_start, chunk_end))\n",
    "\n",
    "chunks"
   ]
  },
  {
   "cell_type": "code",
   "execution_count": 16,
   "id": "b24b5f74-b51e-4eeb-9664-817ceef405bc",
   "metadata": {},
   "outputs": [],
   "source": [
    "gpd_list = []\n",
    "for chunk in chunks:\n",
    "    kontour = gpd.read_file(\n",
    "        \"data/kontur_population.gpkg\", ignore_geometry=True, rows=chunk\n",
    "    )\n",
    "    gpd_list.append(kontour)"
   ]
  },
  {
   "cell_type": "code",
   "execution_count": 20,
   "id": "31e7f4ab-7916-4316-9d4e-c36a2263f64f",
   "metadata": {
    "tags": []
   },
   "outputs": [],
   "source": [
    "# forgot the last one..\n",
    "last_one = gpd.read_file(\n",
    "    \"data/kontur_population.gpkg\", ignore_geometry=True, rows=slice(32000000, 33000000)\n",
    ")"
   ]
  },
  {
   "cell_type": "code",
   "execution_count": 22,
   "id": "8c67577c-9ed0-4706-8b39-72b078f1a439",
   "metadata": {
    "tags": []
   },
   "outputs": [
    {
     "data": {
      "text/html": [
       "<div>\n",
       "<style scoped>\n",
       "    .dataframe tbody tr th:only-of-type {\n",
       "        vertical-align: middle;\n",
       "    }\n",
       "\n",
       "    .dataframe tbody tr th {\n",
       "        vertical-align: top;\n",
       "    }\n",
       "\n",
       "    .dataframe thead th {\n",
       "        text-align: right;\n",
       "    }\n",
       "</style>\n",
       "<table border=\"1\" class=\"dataframe\">\n",
       "  <thead>\n",
       "    <tr style=\"text-align: right;\">\n",
       "      <th></th>\n",
       "      <th>h3</th>\n",
       "      <th>population</th>\n",
       "    </tr>\n",
       "  </thead>\n",
       "  <tbody>\n",
       "    <tr>\n",
       "      <th>0</th>\n",
       "      <td>88099c912dfffff</td>\n",
       "      <td>5.0</td>\n",
       "    </tr>\n",
       "    <tr>\n",
       "      <th>1</th>\n",
       "      <td>88099c912bfffff</td>\n",
       "      <td>1.0</td>\n",
       "    </tr>\n",
       "    <tr>\n",
       "      <th>2</th>\n",
       "      <td>88099c9129fffff</td>\n",
       "      <td>2.0</td>\n",
       "    </tr>\n",
       "    <tr>\n",
       "      <th>3</th>\n",
       "      <td>88099c911bfffff</td>\n",
       "      <td>1.0</td>\n",
       "    </tr>\n",
       "    <tr>\n",
       "      <th>4</th>\n",
       "      <td>88099c9119fffff</td>\n",
       "      <td>1.0</td>\n",
       "    </tr>\n",
       "    <tr>\n",
       "      <th>...</th>\n",
       "      <td>...</td>\n",
       "      <td>...</td>\n",
       "    </tr>\n",
       "    <tr>\n",
       "      <th>589548</th>\n",
       "      <td>8800189467fffff</td>\n",
       "      <td>8.0</td>\n",
       "    </tr>\n",
       "    <tr>\n",
       "      <th>589549</th>\n",
       "      <td>8800189465fffff</td>\n",
       "      <td>3.0</td>\n",
       "    </tr>\n",
       "    <tr>\n",
       "      <th>589550</th>\n",
       "      <td>880018942dfffff</td>\n",
       "      <td>1.0</td>\n",
       "    </tr>\n",
       "    <tr>\n",
       "      <th>589551</th>\n",
       "      <td>8800189425fffff</td>\n",
       "      <td>2.0</td>\n",
       "    </tr>\n",
       "    <tr>\n",
       "      <th>589552</th>\n",
       "      <td>8800014c5bfffff</td>\n",
       "      <td>4.0</td>\n",
       "    </tr>\n",
       "  </tbody>\n",
       "</table>\n",
       "<p>589553 rows × 2 columns</p>\n",
       "</div>"
      ],
      "text/plain": [
       "                     h3  population\n",
       "0       88099c912dfffff         5.0\n",
       "1       88099c912bfffff         1.0\n",
       "2       88099c9129fffff         2.0\n",
       "3       88099c911bfffff         1.0\n",
       "4       88099c9119fffff         1.0\n",
       "...                 ...         ...\n",
       "589548  8800189467fffff         8.0\n",
       "589549  8800189465fffff         3.0\n",
       "589550  880018942dfffff         1.0\n",
       "589551  8800189425fffff         2.0\n",
       "589552  8800014c5bfffff         4.0\n",
       "\n",
       "[589553 rows x 2 columns]"
      ]
     },
     "execution_count": 22,
     "metadata": {},
     "output_type": "execute_result"
    }
   ],
   "source": [
    "last_one"
   ]
  },
  {
   "cell_type": "code",
   "execution_count": 23,
   "id": "c3823196-dd67-4947-ae90-ed845e73d5a1",
   "metadata": {
    "tags": []
   },
   "outputs": [],
   "source": [
    "giga_gpd = pd.concat([giga_gpd, last_one])"
   ]
  },
  {
   "cell_type": "code",
   "execution_count": 25,
   "id": "593b4379-1639-4d87-aa64-9ef36091b226",
   "metadata": {
    "tags": []
   },
   "outputs": [],
   "source": [
    "giga_gpd.to_csv(\"data/kontour_400.csv\")"
   ]
  },
  {
   "cell_type": "code",
   "execution_count": null,
   "id": "e5d2a1d4-24b7-4cec-9e0d-506d5bc2104a",
   "metadata": {},
   "outputs": [],
   "source": [
    "## OLD"
   ]
  },
  {
   "cell_type": "code",
   "execution_count": 1,
   "id": "6eac6adf-cd46-450c-9640-ce47a00b936f",
   "metadata": {
    "tags": []
   },
   "outputs": [],
   "source": [
    "# giga_gpd.info(memory_usage=\"deep\")"
   ]
  },
  {
   "cell_type": "code",
   "execution_count": 2,
   "id": "91611d85-d576-4cd2-aad7-d384a143d953",
   "metadata": {},
   "outputs": [],
   "source": [
    "# kontour_r6=pd.read_csv('kontour_400.csv')"
   ]
  },
  {
   "cell_type": "markdown",
   "id": "dadb8160-5c5c-4369-a61a-d7ec5da45ceb",
   "metadata": {},
   "source": [
    "Setting h3 index as df dataframe (it's an 'index' so better use it!). It should improve query time (we have 32 Million lines!) "
   ]
  },
  {
   "cell_type": "code",
   "execution_count": 4,
   "id": "5cfe7803-88e4-4f68-b173-c5779f5ff436",
   "metadata": {
    "tags": []
   },
   "outputs": [],
   "source": [
    "# kontour_neo=kontour_r6.drop(columns='Unnamed: 0').set_index('h3')"
   ]
  },
  {
   "cell_type": "code",
   "execution_count": 5,
   "id": "d808d90c-f1b2-410b-b4fb-b2e18556d0b8",
   "metadata": {
    "tags": []
   },
   "outputs": [],
   "source": [
    "# hex_ids=[\"88f2a40257fffff\",\"880018942dfffff\",\"8800189467fffff\",'881973d603fffff', '8819739a0dfffff', '8819710963fffff', '8819714e4dfffff', '881955cec3fffff', '8819468cc7fffff', '881955965dfffff', '881973b4ddfffff', '8819716f1bfffff', '8819735005fffff', '8819714c45fffff', '8819551829fffff', '881973af5bfffff', '88197382ebfffff', '8819464ab5fffff', '8819469b39fffff', '88194691b7fffff', '88197142b5fffff', '881946194bfffff', '8819468ec5fffff', '8819737061fffff', '881973793bfffff', '8819714693fffff', '8819559411fffff', '8819717131fffff', '881973d657fffff', '8819717069fffff', '881946d5e1fffff', '8819716663fffff', '8819733a39fffff', '881946c5e7fffff', '8819734235fffff', '8819460de1fffff', '88197154d7fffff', '8819467a35fffff', '881954a5bbfffff', '8819706ca1fffff', '8819468d11fffff', '8819736cd9fffff', '8819714a85fffff', '881973a0c7fffff', '881973246dfffff', '88197148e3fffff', '881973b6b9fffff', '881955d32dfffff', '8819730605fffff']"
   ]
  },
  {
   "cell_type": "code",
   "execution_count": 6,
   "id": "09851189-1402-47a5-8f7f-30d2f2cefe83",
   "metadata": {
    "tags": []
   },
   "outputs": [],
   "source": [
    "# %timeit kontour_r6.query('h3 ==  @hex_ids')['population'].values"
   ]
  },
  {
   "cell_type": "code",
   "execution_count": null,
   "id": "aa6cf91d-cc2a-45ae-9cdb-bdc6e11a79d9",
   "metadata": {
    "tags": []
   },
   "outputs": [
    {
     "name": "stdout",
     "output_type": "stream",
     "text": [
      "361 µs ± 1.79 µs per loop (mean ± std. dev. of 7 runs, 1,000 loops each)\n"
     ]
    }
   ],
   "source": [
    "# %timeit kontour_neo.loc[kontour_neo.index.intersection(hex_ids),'population'].values"
   ]
  },
  {
   "cell_type": "markdown",
   "id": "8483fffe-74c1-4a1f-bc2f-421667318861",
   "metadata": {
    "tags": []
   },
   "source": [
    "Much faster!\n",
    "\n",
    "### Test "
   ]
  },
  {
   "cell_type": "code",
   "execution_count": 8,
   "id": "16dc1fba-735a-4850-8af6-eecd20eff2a4",
   "metadata": {},
   "outputs": [],
   "source": [
    "# data_airport=pd.read_csv('Data/pb_arpt_v2.csv')\n",
    "# data_airport"
   ]
  },
  {
   "cell_type": "code",
   "execution_count": 9,
   "id": "e7b416f0-8464-429a-b98d-0db97632035a",
   "metadata": {
    "tags": []
   },
   "outputs": [],
   "source": [
    "# def find_population_for_radius(hex_id, R):\n",
    "#     # finding the hexagon edge size, based on the index and the area of an hexagon A=3.sqrt(3)/2.a²\n",
    "#     cell_edge=np.sqrt(2/(3*np.sqrt(3))*h3.cell_area(hex_id))\n",
    "#     # Getting the largest k_ring fitting in the circle of radius R. K_ring is an hexagon, whose large radius is equals to (2n+1) the small radius of the base hexagon.\n",
    "#     # Small radius of the base hexagon is equal to sqrt(3)/2.big radius which is equal to edge length, hence the formula below\n",
    "#     n = int(np.floor((R)/(np.sqrt(3)*cell_edge)-1/2))\n",
    "#     # Getting the ids of all the hexagons inside the k_ring\n",
    "#     hex_ids = list(h3.k_ring(hex_id, n))\n",
    "#     # getting their surfaces for surface normalisation\n",
    "#     surfaces = sum([h3.cell_area(id) for id in hex_ids])\n",
    "\n",
    "#     # Getting the population inside each hexagon\n",
    "#     # ID vector query for much fatser processing when looking at many neigbors\n",
    "#     pop= sum(kontour_neo.loc[kontour_neo.index.intersection(hex_ids),'population'].values)\n",
    "\n",
    "#     # Normalisation: not all hexes are the same size. Meaning n won't be the same for different regions.\n",
    "#     # Using a very high resolution grid allows this to have little effect on the surface considered:\n",
    "#     # When small hexagons are very small against the 'big' hexagon of big radius R, there will always be an hex ring close to it.\n",
    "#     # Still, a normalisation is made to have the population adjusted for the R hex surface for all the places investigated.\n",
    "\n",
    "#     pop_norm = pop/surfaces*3*np.sqrt(3)/2*R**2\n",
    "#     return pop_norm\n",
    "\n",
    "\n",
    "# # Apply the find_k_nearest_hexagons and find_population_for_hexagons functions to each row of the point_data DataFrame\n",
    "# data_airport['hex_id'] = data_airport.apply(lambda row: h3.geo_to_h3(row['lat'], row['lon'], 8), axis=1)\n",
    "\n",
    "\n",
    "# data_airport.progress_apply(lambda row: find_population_for_radius(row['hex_id'], 50), axis=1)\n",
    "\n",
    "\n",
    "# data_airport['surrounding_population_level_1'] = data_airport.progress_apply(lambda row: find_population_for_hexagons(row['hex_id'], 1), axis=1)\n",
    "# data_airport['surrounding_population_level_2'] = data_airport.progress_apply(lambda row: find_population_for_hexagons(row['hex_id'], 2), axis=1)\n",
    "# data_airport['surrounding_population_level_3'] = data_airport.progress_apply(lambda row: find_population_for_hexagons(row['hex_id'], 3), axis=1)\n",
    "# data_airport['surrounding_population_level_4'] = data_airport.progress_apply(lambda row: find_population_for_hexagons(row['hex_id'], 8), axis=1)"
   ]
  },
  {
   "cell_type": "code",
   "execution_count": null,
   "id": "c9cd4f87-0023-4ce8-ba27-9ed83593b4b8",
   "metadata": {},
   "outputs": [],
   "source": []
  }
 ],
 "metadata": {
  "kernelspec": {
   "display_name": "Python 3 (ipykernel)",
   "language": "python",
   "name": "python3"
  },
  "language_info": {
   "codemirror_mode": {
    "name": "ipython",
    "version": 3
   },
   "file_extension": ".py",
   "mimetype": "text/x-python",
   "name": "python",
   "nbconvert_exporter": "python",
   "pygments_lexer": "ipython3",
   "version": "3.9.15"
  }
 },
 "nbformat": 4,
 "nbformat_minor": 5
}
