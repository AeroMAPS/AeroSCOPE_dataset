{
 "cells": [
  {
   "cell_type": "code",
   "execution_count": 2,
   "id": "439bd211c2750bef",
   "metadata": {
    "collapsed": false,
    "tags": []
   },
   "outputs": [
    {
     "name": "stderr",
     "output_type": "stream",
     "text": [
      "D:\\AeroSCOPE_dataset\\aeroscope\\04_app\\preprocess_OS.py:11: DtypeWarning: Columns (4,5) have mixed types. Specify dtype option on import or set low_memory=False.\n",
      "  flights_df = pd.read_csv(\n"
     ]
    }
   ],
   "source": [
    "# Preprocess?\n",
    "\n",
    "import preprocess, preprocess_OS\n",
    "preprocess.preprocess(\"../03_routes_schedule/data/final_12_12.csv\")\n",
    "preprocess_OS.preprocess(\"../01_to_03_bis_opensky_only/data/os_alone.csv\")"
   ]
  }
 ],
 "metadata": {
  "kernelspec": {
   "display_name": "Python 3 (ipykernel)",
   "language": "python",
   "name": "python3"
  },
  "language_info": {
   "codemirror_mode": {
    "name": "ipython",
    "version": 3
   },
   "file_extension": ".py",
   "mimetype": "text/x-python",
   "name": "python",
   "nbconvert_exporter": "python",
   "pygments_lexer": "ipython3",
   "version": "3.10.0"
  }
 },
 "nbformat": 4,
 "nbformat_minor": 5
}
