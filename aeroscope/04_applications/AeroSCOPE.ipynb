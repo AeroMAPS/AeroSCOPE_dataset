{
 "cells": [
  {
   "metadata": {},
   "cell_type": "code",
   "outputs": [],
   "execution_count": null,
   "source": [
    "# AeroSCOPE web application\n",
    "\n",
    "The web application now has its own github repository. Visit it for local installation! \n",
    "=> https://github.com/AeroMAPS/AeroSCOPE\n",
    "\n",
    "The app is also deployed on https://aeroscope.isae-supaero.fr/"
   ],
   "id": "135a38be11c324ff"
  },
  {
   "cell_type": "code",
   "execution_count": null,
   "outputs": [],
   "source": [],
   "metadata": {
    "collapsed": false
   },
   "id": "8e1d3611b470ebb1"
  }
 ],
 "metadata": {
  "kernelspec": {
   "display_name": "Python 3",
   "language": "python",
   "name": "python3"
  },
  "language_info": {
   "codemirror_mode": {
    "name": "ipython",
    "version": 2
   },
   "file_extension": ".py",
   "mimetype": "text/x-python",
   "name": "python",
   "nbconvert_exporter": "python",
   "pygments_lexer": "ipython2",
   "version": "2.7.6"
  }
 },
 "nbformat": 4,
 "nbformat_minor": 5
}
