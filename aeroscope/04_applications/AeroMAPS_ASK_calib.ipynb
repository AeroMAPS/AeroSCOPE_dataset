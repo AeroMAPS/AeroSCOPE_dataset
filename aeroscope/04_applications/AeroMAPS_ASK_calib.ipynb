{
 "cells": [
  {
   "cell_type": "code",
   "execution_count": 1,
   "id": "912c0908-f0b9-4b97-977c-97916a0eb442",
   "metadata": {
    "tags": []
   },
   "outputs": [
    {
     "data": {
      "text/html": [
       "<div>\n",
       "<style scoped>\n",
       "    .dataframe tbody tr th:only-of-type {\n",
       "        vertical-align: middle;\n",
       "    }\n",
       "\n",
       "    .dataframe tbody tr th {\n",
       "        vertical-align: top;\n",
       "    }\n",
       "\n",
       "    .dataframe thead th {\n",
       "        text-align: right;\n",
       "    }\n",
       "</style>\n",
       "<table border=\"1\" class=\"dataframe\">\n",
       "  <thead>\n",
       "    <tr style=\"text-align: right;\">\n",
       "      <th></th>\n",
       "      <th>airline_iata</th>\n",
       "      <th>acft_icao</th>\n",
       "      <th>acft_class</th>\n",
       "      <th>seymour_proxy</th>\n",
       "      <th>source</th>\n",
       "      <th>Seats</th>\n",
       "      <th>n_flights</th>\n",
       "      <th>iata_departure</th>\n",
       "      <th>iata_arrival</th>\n",
       "      <th>departure_lon</th>\n",
       "      <th>...</th>\n",
       "      <th>CO2 (Mt)</th>\n",
       "      <th>ASK (Bn)</th>\n",
       "      <th>Seats (Mn)</th>\n",
       "      <th>CO2 Ppax</th>\n",
       "      <th>departure_continent_name</th>\n",
       "      <th>arrival_continent_name</th>\n",
       "      <th>departure_country_name</th>\n",
       "      <th>departure_ISO3</th>\n",
       "      <th>arrival_country_name</th>\n",
       "      <th>arrival_ISO3</th>\n",
       "    </tr>\n",
       "  </thead>\n",
       "  <tbody>\n",
       "    <tr>\n",
       "      <th>0</th>\n",
       "      <td>5V</td>\n",
       "      <td>PC12</td>\n",
       "      <td>TP</td>\n",
       "      <td>PC12</td>\n",
       "      <td>BTS</td>\n",
       "      <td>4.5</td>\n",
       "      <td>0.5</td>\n",
       "      <td>05A</td>\n",
       "      <td>AET</td>\n",
       "      <td>-148.183889</td>\n",
       "      <td>...</td>\n",
       "      <td>1.960577e-07</td>\n",
       "      <td>1.007743e-06</td>\n",
       "      <td>0.000005</td>\n",
       "      <td>52.492030</td>\n",
       "      <td>North America</td>\n",
       "      <td>North America</td>\n",
       "      <td>United States of America</td>\n",
       "      <td>USA</td>\n",
       "      <td>United States of America</td>\n",
       "      <td>USA</td>\n",
       "    </tr>\n",
       "    <tr>\n",
       "      <th>1</th>\n",
       "      <td>5V</td>\n",
       "      <td>C208</td>\n",
       "      <td>TP</td>\n",
       "      <td>C208</td>\n",
       "      <td>BTS</td>\n",
       "      <td>4.5</td>\n",
       "      <td>0.5</td>\n",
       "      <td>05A</td>\n",
       "      <td>AKP</td>\n",
       "      <td>-148.183889</td>\n",
       "      <td>...</td>\n",
       "      <td>1.598180e-07</td>\n",
       "      <td>7.309065e-07</td>\n",
       "      <td>0.000005</td>\n",
       "      <td>42.789285</td>\n",
       "      <td>North America</td>\n",
       "      <td>North America</td>\n",
       "      <td>United States of America</td>\n",
       "      <td>USA</td>\n",
       "      <td>United States of America</td>\n",
       "      <td>USA</td>\n",
       "    </tr>\n",
       "    <tr>\n",
       "      <th>2</th>\n",
       "      <td>5V</td>\n",
       "      <td>PC12</td>\n",
       "      <td>TP</td>\n",
       "      <td>PC12</td>\n",
       "      <td>BTS</td>\n",
       "      <td>4.5</td>\n",
       "      <td>0.5</td>\n",
       "      <td>05A</td>\n",
       "      <td>AKP</td>\n",
       "      <td>-148.183889</td>\n",
       "      <td>...</td>\n",
       "      <td>1.655009e-07</td>\n",
       "      <td>7.309065e-07</td>\n",
       "      <td>0.000005</td>\n",
       "      <td>44.310814</td>\n",
       "      <td>North America</td>\n",
       "      <td>North America</td>\n",
       "      <td>United States of America</td>\n",
       "      <td>USA</td>\n",
       "      <td>United States of America</td>\n",
       "      <td>USA</td>\n",
       "    </tr>\n",
       "    <tr>\n",
       "      <th>3</th>\n",
       "      <td>5V</td>\n",
       "      <td>C208</td>\n",
       "      <td>TP</td>\n",
       "      <td>C208</td>\n",
       "      <td>BTS</td>\n",
       "      <td>4.5</td>\n",
       "      <td>0.5</td>\n",
       "      <td>05A</td>\n",
       "      <td>ARC</td>\n",
       "      <td>-148.183889</td>\n",
       "      <td>...</td>\n",
       "      <td>1.364440e-07</td>\n",
       "      <td>5.641599e-07</td>\n",
       "      <td>0.000005</td>\n",
       "      <td>36.531199</td>\n",
       "      <td>North America</td>\n",
       "      <td>North America</td>\n",
       "      <td>United States of America</td>\n",
       "      <td>USA</td>\n",
       "      <td>United States of America</td>\n",
       "      <td>USA</td>\n",
       "    </tr>\n",
       "    <tr>\n",
       "      <th>4</th>\n",
       "      <td>5V</td>\n",
       "      <td>PC12</td>\n",
       "      <td>TP</td>\n",
       "      <td>PC12</td>\n",
       "      <td>BTS</td>\n",
       "      <td>9.0</td>\n",
       "      <td>1.0</td>\n",
       "      <td>05A</td>\n",
       "      <td>CXF</td>\n",
       "      <td>-148.183889</td>\n",
       "      <td>...</td>\n",
       "      <td>2.634203e-07</td>\n",
       "      <td>8.423252e-07</td>\n",
       "      <td>0.000009</td>\n",
       "      <td>35.263764</td>\n",
       "      <td>North America</td>\n",
       "      <td>North America</td>\n",
       "      <td>United States of America</td>\n",
       "      <td>USA</td>\n",
       "      <td>United States of America</td>\n",
       "      <td>USA</td>\n",
       "    </tr>\n",
       "  </tbody>\n",
       "</table>\n",
       "<p>5 rows × 35 columns</p>\n",
       "</div>"
      ],
      "text/plain": [
       "  airline_iata acft_icao acft_class seymour_proxy source  Seats  n_flights  \\\n",
       "0           5V      PC12         TP          PC12    BTS    4.5        0.5   \n",
       "1           5V      C208         TP          C208    BTS    4.5        0.5   \n",
       "2           5V      PC12         TP          PC12    BTS    4.5        0.5   \n",
       "3           5V      C208         TP          C208    BTS    4.5        0.5   \n",
       "4           5V      PC12         TP          PC12    BTS    9.0        1.0   \n",
       "\n",
       "  iata_departure iata_arrival  departure_lon  ...      CO2 (Mt)      ASK (Bn)  \\\n",
       "0            05A          AET    -148.183889  ...  1.960577e-07  1.007743e-06   \n",
       "1            05A          AKP    -148.183889  ...  1.598180e-07  7.309065e-07   \n",
       "2            05A          AKP    -148.183889  ...  1.655009e-07  7.309065e-07   \n",
       "3            05A          ARC    -148.183889  ...  1.364440e-07  5.641599e-07   \n",
       "4            05A          CXF    -148.183889  ...  2.634203e-07  8.423252e-07   \n",
       "\n",
       "  Seats (Mn)   CO2 Ppax  departure_continent_name arrival_continent_name  \\\n",
       "0   0.000005  52.492030             North America          North America   \n",
       "1   0.000005  42.789285             North America          North America   \n",
       "2   0.000005  44.310814             North America          North America   \n",
       "3   0.000005  36.531199             North America          North America   \n",
       "4   0.000009  35.263764             North America          North America   \n",
       "\n",
       "     departure_country_name  departure_ISO3      arrival_country_name  \\\n",
       "0  United States of America             USA  United States of America   \n",
       "1  United States of America             USA  United States of America   \n",
       "2  United States of America             USA  United States of America   \n",
       "3  United States of America             USA  United States of America   \n",
       "4  United States of America             USA  United States of America   \n",
       "\n",
       "   arrival_ISO3  \n",
       "0           USA  \n",
       "1           USA  \n",
       "2           USA  \n",
       "3           USA  \n",
       "4           USA  \n",
       "\n",
       "[5 rows x 35 columns]"
      ]
     },
     "execution_count": 1,
     "metadata": {},
     "output_type": "execute_result"
    }
   ],
   "source": [
    "import pandas as pd\n",
    "flights_df=pd.read_csv('./plot_files/flights_df.zip',compression='zip', sep=',',keep_default_na=False, na_values=['', 'NaN'], index_col=0)\n",
    "flights_df.head()"
   ]
  },
  {
   "cell_type": "code",
   "execution_count": 2,
   "id": "39afd48a-edcc-43ff-a3e6-1c739fc1fd6f",
   "metadata": {
    "tags": []
   },
   "outputs": [
    {
     "data": {
      "text/plain": [
       "10663793075111.785"
      ]
     },
     "execution_count": 2,
     "metadata": {},
     "output_type": "execute_result"
    }
   ],
   "source": [
    "flights_df=flights_df[flights_df.acft_class.isin(['NB','WB','TP','RJ','Unknown Aircraft'])]\n",
    "flights_df.ASK.sum()"
   ]
  },
  {
   "cell_type": "code",
   "execution_count": 3,
   "id": "7ca90635-0d57-4556-b025-d7637bd0fea3",
   "metadata": {
    "tags": []
   },
   "outputs": [],
   "source": [
    "flights_EU_US=flights_df[flights_df.departure_continent.isin(['EU','NA']) | flights_df.arrival_continent.isin(['EU','NA'])]"
   ]
  },
  {
   "cell_type": "markdown",
   "id": "77d66acd-8927-4e4c-a499-9ef303921d56",
   "metadata": {},
   "source": [
    "Calibration on EU+US "
   ]
  },
  {
   "cell_type": "code",
   "execution_count": 4,
   "id": "adfb3712-63e2-4dda-a122-d12f66056554",
   "metadata": {
    "tags": []
   },
   "outputs": [],
   "source": [
    "groups=flights_EU_US.groupby('acft_class')['ASK'].sum()/flights_EU_US.ASK.sum()*100\n",
    "groups=groups.reset_index()"
   ]
  },
  {
   "cell_type": "markdown",
   "id": "9ac79a0a-924f-46a9-b2a3-899e416a9245",
   "metadata": {},
   "source": [
    "Asssuming unknwon acft are proportional to other categories"
   ]
  },
  {
   "cell_type": "code",
   "execution_count": 5,
   "id": "15b75179-2428-45f1-a90b-59919797eab8",
   "metadata": {
    "tags": []
   },
   "outputs": [],
   "source": [
    "known_share=100-groups[groups.acft_class=='Unknown Aircraft']['ASK']\n",
    "groups['ASK share']=groups[groups.acft_class!='Unknown Aircraft']['ASK']/(known_share.values[0])"
   ]
  },
  {
   "cell_type": "code",
   "execution_count": 6,
   "id": "5f556497-bbbf-4437-bc9a-70045ffd1031",
   "metadata": {
    "tags": []
   },
   "outputs": [
    {
     "data": {
      "text/html": [
       "<div>\n",
       "<style scoped>\n",
       "    .dataframe tbody tr th:only-of-type {\n",
       "        vertical-align: middle;\n",
       "    }\n",
       "\n",
       "    .dataframe tbody tr th {\n",
       "        vertical-align: top;\n",
       "    }\n",
       "\n",
       "    .dataframe thead th {\n",
       "        text-align: right;\n",
       "    }\n",
       "</style>\n",
       "<table border=\"1\" class=\"dataframe\">\n",
       "  <thead>\n",
       "    <tr style=\"text-align: right;\">\n",
       "      <th></th>\n",
       "      <th>acft_class</th>\n",
       "      <th>ASK</th>\n",
       "      <th>ASK share</th>\n",
       "    </tr>\n",
       "  </thead>\n",
       "  <tbody>\n",
       "    <tr>\n",
       "      <th>0</th>\n",
       "      <td>NB</td>\n",
       "      <td>41.616663</td>\n",
       "      <td>0.470079</td>\n",
       "    </tr>\n",
       "    <tr>\n",
       "      <th>1</th>\n",
       "      <td>RJ</td>\n",
       "      <td>3.625191</td>\n",
       "      <td>0.040948</td>\n",
       "    </tr>\n",
       "    <tr>\n",
       "      <th>2</th>\n",
       "      <td>TP</td>\n",
       "      <td>0.344148</td>\n",
       "      <td>0.003887</td>\n",
       "    </tr>\n",
       "    <tr>\n",
       "      <th>3</th>\n",
       "      <td>Unknown Aircraft</td>\n",
       "      <td>11.468869</td>\n",
       "      <td>NaN</td>\n",
       "    </tr>\n",
       "    <tr>\n",
       "      <th>4</th>\n",
       "      <td>WB</td>\n",
       "      <td>42.945130</td>\n",
       "      <td>0.485085</td>\n",
       "    </tr>\n",
       "  </tbody>\n",
       "</table>\n",
       "</div>"
      ],
      "text/plain": [
       "         acft_class        ASK  ASK share\n",
       "0                NB  41.616663   0.470079\n",
       "1                RJ   3.625191   0.040948\n",
       "2                TP   0.344148   0.003887\n",
       "3  Unknown Aircraft  11.468869        NaN\n",
       "4                WB  42.945130   0.485085"
      ]
     },
     "execution_count": 6,
     "metadata": {},
     "output_type": "execute_result"
    }
   ],
   "source": [
    "groups"
   ]
  },
  {
   "cell_type": "code",
   "execution_count": 7,
   "id": "57265be2-393c-44c4-a470-15d09cbb8e88",
   "metadata": {
    "tags": []
   },
   "outputs": [],
   "source": [
    "#mapping based on paco vlue from planespotters\n",
    "mapping = {\n",
    "    'TP': 2257,\n",
    "    'NB': 16257,\n",
    "    'RJ': 3516,\n",
    "    'WB': 5453\n",
    "} \n",
    "\n",
    "groups['n_AC'] = groups['acft_class'].map(mapping)"
   ]
  },
  {
   "cell_type": "code",
   "execution_count": 8,
   "id": "a6c4786e-e557-4e65-936b-e3e0fc5fbf9a",
   "metadata": {
    "tags": []
   },
   "outputs": [],
   "source": [
    "groups['ASK_per_AC_per_year']=flights_df.ASK.sum()*groups['ASK share']/groups['n_AC']"
   ]
  },
  {
   "cell_type": "code",
   "execution_count": 9,
   "id": "1fe3313e-8ca6-4b47-858c-cc5bdb80b208",
   "metadata": {
    "tags": []
   },
   "outputs": [
    {
     "data": {
      "text/html": [
       "<div>\n",
       "<style scoped>\n",
       "    .dataframe tbody tr th:only-of-type {\n",
       "        vertical-align: middle;\n",
       "    }\n",
       "\n",
       "    .dataframe tbody tr th {\n",
       "        vertical-align: top;\n",
       "    }\n",
       "\n",
       "    .dataframe thead th {\n",
       "        text-align: right;\n",
       "    }\n",
       "</style>\n",
       "<table border=\"1\" class=\"dataframe\">\n",
       "  <thead>\n",
       "    <tr style=\"text-align: right;\">\n",
       "      <th></th>\n",
       "      <th>acft_class</th>\n",
       "      <th>ASK</th>\n",
       "      <th>ASK share</th>\n",
       "      <th>n_AC</th>\n",
       "      <th>ASK_per_AC_per_year</th>\n",
       "    </tr>\n",
       "  </thead>\n",
       "  <tbody>\n",
       "    <tr>\n",
       "      <th>0</th>\n",
       "      <td>NB</td>\n",
       "      <td>41.616663</td>\n",
       "      <td>0.470079</td>\n",
       "      <td>16257.0</td>\n",
       "      <td>3.083490e+08</td>\n",
       "    </tr>\n",
       "    <tr>\n",
       "      <th>1</th>\n",
       "      <td>RJ</td>\n",
       "      <td>3.625191</td>\n",
       "      <td>0.040948</td>\n",
       "      <td>3516.0</td>\n",
       "      <td>1.241932e+08</td>\n",
       "    </tr>\n",
       "    <tr>\n",
       "      <th>2</th>\n",
       "      <td>TP</td>\n",
       "      <td>0.344148</td>\n",
       "      <td>0.003887</td>\n",
       "      <td>2257.0</td>\n",
       "      <td>1.836661e+07</td>\n",
       "    </tr>\n",
       "    <tr>\n",
       "      <th>3</th>\n",
       "      <td>Unknown Aircraft</td>\n",
       "      <td>11.468869</td>\n",
       "      <td>NaN</td>\n",
       "      <td>NaN</td>\n",
       "      <td>NaN</td>\n",
       "    </tr>\n",
       "    <tr>\n",
       "      <th>4</th>\n",
       "      <td>WB</td>\n",
       "      <td>42.945130</td>\n",
       "      <td>0.485085</td>\n",
       "      <td>5453.0</td>\n",
       "      <td>9.486240e+08</td>\n",
       "    </tr>\n",
       "  </tbody>\n",
       "</table>\n",
       "</div>"
      ],
      "text/plain": [
       "         acft_class        ASK  ASK share     n_AC  ASK_per_AC_per_year\n",
       "0                NB  41.616663   0.470079  16257.0         3.083490e+08\n",
       "1                RJ   3.625191   0.040948   3516.0         1.241932e+08\n",
       "2                TP   0.344148   0.003887   2257.0         1.836661e+07\n",
       "3  Unknown Aircraft  11.468869        NaN      NaN                  NaN\n",
       "4                WB  42.945130   0.485085   5453.0         9.486240e+08"
      ]
     },
     "execution_count": 9,
     "metadata": {},
     "output_type": "execute_result"
    }
   ],
   "source": [
    "groups"
   ]
  },
  {
   "cell_type": "code",
   "execution_count": 10,
   "id": "f7824211-e4d6-4b25-a414-622d4bc6a9f5",
   "metadata": {
    "tags": []
   },
   "outputs": [],
   "source": [
    "SR=flights_EU_US[flights_EU_US.distance_km<=1500].groupby('acft_class')['ASK'].sum()/flights_EU_US[flights_EU_US.distance_km<=1500].ASK.sum()*100\n",
    "MR=flights_EU_US[(flights_EU_US['distance_km'] > 1500) & (flights_EU_US['distance_km'] < 4000)].groupby('acft_class')['ASK'].sum()/flights_EU_US[(flights_EU_US['distance_km'] > 1500) & (flights_EU_US['distance_km'] < 4000)].ASK.sum()*100\n",
    "LR=flights_EU_US[flights_EU_US.distance_km>4000].groupby('acft_class')['ASK'].sum()/flights_EU_US[flights_EU_US.distance_km>4000].ASK.sum()*100"
   ]
  },
  {
   "cell_type": "code",
   "execution_count": 11,
   "id": "f70b9721-bebb-42e3-b1de-9762c95e8ff5",
   "metadata": {
    "tags": []
   },
   "outputs": [],
   "source": [
    "ASK_AC_Y_SR = (\n",
    "    groups[groups.acft_class=='NB']['ASK_per_AC_per_year'].values[0]*SR['NB']/(100-SR['Unknown Aircraft'])\n",
    "    +groups[groups.acft_class=='WB']['ASK_per_AC_per_year'].values[0]*SR['WB']/(100-SR['Unknown Aircraft'])\n",
    "    +groups[groups.acft_class=='RJ']['ASK_per_AC_per_year'].values[0]*SR['RJ']/(100-SR['Unknown Aircraft'])\n",
    "    +groups[groups.acft_class=='TP']['ASK_per_AC_per_year'].values[0]*SR['TP']/(100-SR['Unknown Aircraft'])\n",
    "              )\n",
    "\n",
    "ASK_AC_Y_MR = (\n",
    "    groups[groups.acft_class=='NB']['ASK_per_AC_per_year'].values[0]*MR['NB']/(100-MR['Unknown Aircraft'])\n",
    "    +groups[groups.acft_class=='WB']['ASK_per_AC_per_year'].values[0]*MR['WB']/(100-MR['Unknown Aircraft'])\n",
    "    +groups[groups.acft_class=='RJ']['ASK_per_AC_per_year'].values[0]*MR['RJ']/(100-MR['Unknown Aircraft'])\n",
    "    +groups[groups.acft_class=='TP']['ASK_per_AC_per_year'].values[0]*MR['TP']/(100-MR['Unknown Aircraft'])\n",
    "              )\n",
    "\n",
    "ASK_AC_Y_LR = (\n",
    "    groups[groups.acft_class=='NB']['ASK_per_AC_per_year'].values[0]*LR['NB']/(100-LR['Unknown Aircraft'])\n",
    "    +groups[groups.acft_class=='WB']['ASK_per_AC_per_year'].values[0]*LR['WB']/(100-LR['Unknown Aircraft'])\n",
    "    +groups[groups.acft_class=='RJ']['ASK_per_AC_per_year'].values[0]*LR['RJ']/(100-LR['Unknown Aircraft'])\n",
    "    +groups[groups.acft_class=='TP']['ASK_per_AC_per_year'].values[0]*LR['TP']/(100-LR['Unknown Aircraft'])\n",
    "              )"
   ]
  },
  {
   "cell_type": "code",
   "execution_count": 12,
   "id": "0b57ee08-90cb-4077-82c9-c770ffe958fb",
   "metadata": {
    "tags": []
   },
   "outputs": [
    {
     "data": {
      "text/plain": [
       "acft_class\n",
       "NB                  71.057245\n",
       "RJ                  14.575748\n",
       "TP                   1.790995\n",
       "Unknown Aircraft    11.365064\n",
       "WB                   1.210948\n",
       "Name: ASK, dtype: float64"
      ]
     },
     "execution_count": 12,
     "metadata": {},
     "output_type": "execute_result"
    }
   ],
   "source": [
    "SR"
   ]
  },
  {
   "cell_type": "code",
   "execution_count": 13,
   "id": "a8a456de-56d8-4d1d-914f-56bf6a6c2cc5",
   "metadata": {
    "tags": []
   },
   "outputs": [
    {
     "data": {
      "text/plain": [
       "acft_class\n",
       "NB                  79.240104\n",
       "RJ                   2.589020\n",
       "TP                   0.004391\n",
       "Unknown Aircraft    11.332583\n",
       "WB                   6.833902\n",
       "Name: ASK, dtype: float64"
      ]
     },
     "execution_count": 13,
     "metadata": {},
     "output_type": "execute_result"
    }
   ],
   "source": [
    "MR"
   ]
  },
  {
   "cell_type": "code",
   "execution_count": 14,
   "id": "54dd971b-d8c5-4a2c-9eae-8a61abe6caa8",
   "metadata": {
    "tags": []
   },
   "outputs": [
    {
     "data": {
      "text/plain": [
       "acft_class\n",
       "NB                   5.056164\n",
       "RJ                   0.001666\n",
       "TP                   0.000016\n",
       "Unknown Aircraft    11.600186\n",
       "WB                  83.341969\n",
       "Name: ASK, dtype: float64"
      ]
     },
     "execution_count": 14,
     "metadata": {},
     "output_type": "execute_result"
    }
   ],
   "source": [
    "LR"
   ]
  },
  {
   "cell_type": "code",
   "execution_count": 15,
   "id": "09ca0304-dc71-45eb-80ec-573749f2e9a3",
   "metadata": {
    "tags": []
   },
   "outputs": [
    {
     "data": {
      "text/plain": [
       "0.09119867959230551"
      ]
     },
     "execution_count": 15,
     "metadata": {},
     "output_type": "execute_result"
    }
   ],
   "source": [
    "ASK_AC_Y_LR/1e10"
   ]
  },
  {
   "cell_type": "code",
   "execution_count": 18,
   "id": "76c84049-dc83-43a5-ba0b-7f86d80297b4",
   "metadata": {
    "tags": []
   },
   "outputs": [
    {
     "data": {
      "text/plain": [
       "280.95319142722946"
      ]
     },
     "execution_count": 18,
     "metadata": {},
     "output_type": "execute_result"
    }
   ],
   "source": [
    "ASK_AC_Y_SR/1e6"
   ]
  },
  {
   "cell_type": "code",
   "execution_count": 19,
   "id": "29600737-4b20-4030-a4f2-04aa74126a49",
   "metadata": {
    "tags": []
   },
   "outputs": [
    {
     "data": {
      "text/plain": [
       "352.3056190515295"
      ]
     },
     "execution_count": 19,
     "metadata": {},
     "output_type": "execute_result"
    }
   ],
   "source": [
    "ASK_AC_Y_MR/1e6"
   ]
  },
  {
   "cell_type": "code",
   "execution_count": 20,
   "id": "443b8452-f928-45fc-a4fb-5ec47c9b76fc",
   "metadata": {
    "tags": []
   },
   "outputs": [
    {
     "data": {
      "text/plain": [
       "911.9867959230552"
      ]
     },
     "execution_count": 20,
     "metadata": {},
     "output_type": "execute_result"
    }
   ],
   "source": [
    "ASK_AC_Y_LR/1e6"
   ]
  },
  {
   "cell_type": "code",
   "execution_count": null,
   "id": "cde5d494-6ad3-4d91-bacf-c683a190a274",
   "metadata": {},
   "outputs": [],
   "source": []
  }
 ],
 "metadata": {
  "kernelspec": {
   "display_name": "Python 3 (ipykernel)",
   "language": "python",
   "name": "python3"
  },
  "language_info": {
   "codemirror_mode": {
    "name": "ipython",
    "version": 3
   },
   "file_extension": ".py",
   "mimetype": "text/x-python",
   "name": "python",
   "nbconvert_exporter": "python",
   "pygments_lexer": "ipython3",
   "version": "3.10.0"
  }
 },
 "nbformat": 4,
 "nbformat_minor": 5
}
