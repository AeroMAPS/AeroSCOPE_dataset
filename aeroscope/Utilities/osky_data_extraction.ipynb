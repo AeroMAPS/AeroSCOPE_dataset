{
 "cells": [
  {
   "cell_type": "code",
   "execution_count": 6,
   "id": "dd1f8b25-204c-4889-8146-778fa5e6f1d2",
   "metadata": {},
   "outputs": [
    {
     "data": {
      "text/plain": [
       "WindowsPath('C:/Users/a.salgas.ISAE-SUPAERO/AppData/Local/traffic/traffic/traffic.conf')"
      ]
     },
     "execution_count": 6,
     "metadata": {},
     "output_type": "execute_result"
    }
   ],
   "source": [
    "%matplotlib inline\n",
    "import matplotlib.pyplot as plt\n",
    "import numpy as np\n",
    "\n",
    "import pandas as pd\n",
    "from geopy import distance"
   ]
  },
  {
   "cell_type": "markdown",
   "id": "f36cc969-083f-4194-8594-532c37051020",
   "metadata": {},
   "source": [
    "## Data from zenodo archive\n",
    "\n",
    "https://zenodo.org/record/7923702"
   ]
  },
  {
   "cell_type": "code",
   "execution_count": null,
   "id": "ee694266-5006-4ff2-9b13-cd610cc3748e",
   "metadata": {
    "tags": []
   },
   "outputs": [
    {
     "name": "stderr",
     "output_type": "stream",
     "text": [
      "C:\\Users\\a.salgas.ISAE-SUPAERO\\AppData\\Local\\Temp\\ipykernel_12888\\2983827875.py:1: DtypeWarning: Columns (1) have mixed types. Specify dtype option on import or set low_memory=False.\n",
      "  january=pd.read_csv('D:/a.salgas/Documents/opensky_2019/flightlist_20190101_20190131.csv')\n"
     ]
    }
   ],
   "source": [
    "january = pd.read_csv(\n",
    "    \"D:/a.salgas/Documents/opensky_2019/flightlist_20190101_20190131.csv\"\n",
    ")\n",
    "february = pd.read_csv(\n",
    "    \"D:/a.salgas/Documents/opensky_2019/flightlist_20190201_20190228.csv\"\n",
    ")\n",
    "march = pd.read_csv(\n",
    "    \"D:/a.salgas/Documents/opensky_2019/flightlist_20190301_20190331.csv\"\n",
    ")\n",
    "april = pd.read_csv(\n",
    "    \"D:/a.salgas/Documents/opensky_2019/flightlist_20190401_20190430.csv\"\n",
    ")\n",
    "may = pd.read_csv(\"D:/a.salgas/Documents/opensky_2019/flightlist_20190501_20190531.csv\")\n",
    "june = pd.read_csv(\n",
    "    \"D:/a.salgas/Documents/opensky_2019/flightlist_20190601_20190630.csv\"\n",
    ")\n",
    "july = pd.read_csv(\n",
    "    \"D:/a.salgas/Documents/opensky_2019/flightlist_20190701_20190731.csv\"\n",
    ")\n",
    "august = pd.read_csv(\n",
    "    \"D:/a.salgas/Documents/opensky_2019/flightlist_20190801_20190831.csv\"\n",
    ")\n",
    "september = pd.read_csv(\n",
    "    \"D:/a.salgas/Documents/opensky_2019/flightlist_20190901_20190930.csv\"\n",
    ")\n",
    "october = pd.read_csv(\n",
    "    \"D:/a.salgas/Documents/opensky_2019/flightlist_20191001_20191031.csv\"\n",
    ")\n",
    "november = pd.read_csv(\n",
    "    \"D:/a.salgas/Documents/opensky_2019/flightlist_20191101_20191130.csv\"\n",
    ")\n",
    "december = pd.read_csv(\n",
    "    \"D:/a.salgas/Documents/opensky_2019/flightlist_20191201_20191231.csv\"\n",
    ")"
   ]
  },
  {
   "cell_type": "code",
   "execution_count": null,
   "id": "099a68c5-8c6a-4577-9cf9-2a6a15d23b9a",
   "metadata": {
    "tags": []
   },
   "outputs": [],
   "source": [
    "january"
   ]
  },
  {
   "cell_type": "code",
   "execution_count": 3,
   "id": "de77ad64-5a24-4de6-86de-40efc581f008",
   "metadata": {
    "tags": []
   },
   "outputs": [],
   "source": [
    "opensky_2019 = pd.concat(\n",
    "    [\n",
    "        january,\n",
    "        february,\n",
    "        march,\n",
    "        april,\n",
    "        may,\n",
    "        june,\n",
    "        july,\n",
    "        august,\n",
    "        september,\n",
    "        october,\n",
    "        november,\n",
    "        december,\n",
    "    ],\n",
    "    axis=0,\n",
    ").reset_index()"
   ]
  },
  {
   "cell_type": "code",
   "execution_count": 4,
   "id": "b45dea76-9fd0-4f69-90b0-6c50e02dfa61",
   "metadata": {
    "tags": []
   },
   "outputs": [],
   "source": [
    "opensky_filtered = opensky_2019.query(\"`altitude_1`<1000 & `altitude_2`<1000\").drop(\n",
    "    columns={\"index\", \"number\", \"registration\", \"typecode\"}\n",
    ")"
   ]
  },
  {
   "cell_type": "code",
   "execution_count": 5,
   "id": "98e26ce4-5013-437d-8034-58688a0ffd9b",
   "metadata": {
    "tags": []
   },
   "outputs": [
    {
     "data": {
      "text/plain": [
       "callsign            0\n",
       "icao24             56\n",
       "origin         202544\n",
       "destination     48325\n",
       "firstseen           0\n",
       "lastseen            0\n",
       "day                 0\n",
       "latitude_1          0\n",
       "longitude_1         0\n",
       "altitude_1          0\n",
       "latitude_2        177\n",
       "longitude_2       177\n",
       "altitude_2          0\n",
       "dtype: int64"
      ]
     },
     "execution_count": 5,
     "metadata": {},
     "output_type": "execute_result"
    }
   ],
   "source": [
    "opensky_filtered.isna().sum()"
   ]
  },
  {
   "cell_type": "code",
   "execution_count": 6,
   "id": "4951240a-eb3f-454a-bee8-3518b04c43a7",
   "metadata": {
    "tags": []
   },
   "outputs": [
    {
     "data": {
      "text/plain": [
       "index                  0\n",
       "callsign               0\n",
       "number          26980077\n",
       "icao24                77\n",
       "registration     3962936\n",
       "typecode         7685992\n",
       "origin           9233907\n",
       "destination      7252530\n",
       "firstseen              0\n",
       "lastseen               0\n",
       "day                    0\n",
       "latitude_1             0\n",
       "longitude_1            0\n",
       "altitude_1             0\n",
       "latitude_2           736\n",
       "longitude_2          736\n",
       "altitude_2        812075\n",
       "dtype: int64"
      ]
     },
     "execution_count": 6,
     "metadata": {},
     "output_type": "execute_result"
    }
   ],
   "source": [
    "opensky_2019.isna().sum()"
   ]
  },
  {
   "cell_type": "code",
   "execution_count": 7,
   "id": "9541df18-12ad-49d7-a2dd-b885e89cbd2e",
   "metadata": {
    "tags": []
   },
   "outputs": [
    {
     "data": {
      "text/plain": [
       "0.3950813699357848"
      ]
     },
     "execution_count": 7,
     "metadata": {},
     "output_type": "execute_result"
    }
   ],
   "source": [
    "len(opensky_filtered) / len(opensky_2019)"
   ]
  },
  {
   "cell_type": "code",
   "execution_count": 9,
   "id": "b0301345-d34c-4244-b0cc-37c6180b610e",
   "metadata": {
    "tags": []
   },
   "outputs": [],
   "source": [
    "opensky_filtered.to_csv(\"../../Data/open_sky/zenodo_flightlist_1000ft.csv\")"
   ]
  },
  {
   "cell_type": "code",
   "execution_count": 4,
   "id": "663f890c-fb0b-4c8b-9bf4-c1d9f70a02e4",
   "metadata": {},
   "outputs": [],
   "source": [
    "aa = pd.read_csv(\"../../Data/open_sky/zenodo_flightlist_1000ft.csv\")"
   ]
  },
  {
   "cell_type": "code",
   "execution_count": 6,
   "id": "4a9423b0-6280-409d-a8bf-205b7b066016",
   "metadata": {
    "tags": []
   },
   "outputs": [
    {
     "data": {
      "text/html": [
       "<div>\n",
       "<style scoped>\n",
       "    .dataframe tbody tr th:only-of-type {\n",
       "        vertical-align: middle;\n",
       "    }\n",
       "\n",
       "    .dataframe tbody tr th {\n",
       "        vertical-align: top;\n",
       "    }\n",
       "\n",
       "    .dataframe thead th {\n",
       "        text-align: right;\n",
       "    }\n",
       "</style>\n",
       "<table border=\"1\" class=\"dataframe\">\n",
       "  <thead>\n",
       "    <tr style=\"text-align: right;\">\n",
       "      <th></th>\n",
       "      <th>Unnamed: 0</th>\n",
       "      <th>callsign</th>\n",
       "      <th>icao24</th>\n",
       "      <th>origin</th>\n",
       "      <th>destination</th>\n",
       "      <th>firstseen</th>\n",
       "      <th>lastseen</th>\n",
       "      <th>day</th>\n",
       "      <th>latitude_1</th>\n",
       "      <th>longitude_1</th>\n",
       "      <th>altitude_1</th>\n",
       "      <th>latitude_2</th>\n",
       "      <th>longitude_2</th>\n",
       "      <th>altitude_2</th>\n",
       "    </tr>\n",
       "  </thead>\n",
       "  <tbody>\n",
       "    <tr>\n",
       "      <th>0</th>\n",
       "      <td>0</td>\n",
       "      <td>HVN19</td>\n",
       "      <td>888152</td>\n",
       "      <td>YMML</td>\n",
       "      <td>LFPG</td>\n",
       "      <td>2018-12-31 00:43:16+00:00</td>\n",
       "      <td>2019-01-01 04:56:29+00:00</td>\n",
       "      <td>2019-01-01 00:00:00+00:00</td>\n",
       "      <td>-37.659485</td>\n",
       "      <td>144.804421</td>\n",
       "      <td>304.8</td>\n",
       "      <td>48.995316</td>\n",
       "      <td>2.610802</td>\n",
       "      <td>-53.34</td>\n",
       "    </tr>\n",
       "    <tr>\n",
       "      <th>1</th>\n",
       "      <td>2</td>\n",
       "      <td>CES219</td>\n",
       "      <td>780b7e</td>\n",
       "      <td>YSSY</td>\n",
       "      <td>EDDF</td>\n",
       "      <td>2018-12-31 01:05:29+00:00</td>\n",
       "      <td>2019-01-01 04:09:29+00:00</td>\n",
       "      <td>2019-01-01 00:00:00+00:00</td>\n",
       "      <td>-33.930908</td>\n",
       "      <td>151.171987</td>\n",
       "      <td>0.0</td>\n",
       "      <td>50.045563</td>\n",
       "      <td>8.588923</td>\n",
       "      <td>-15.24</td>\n",
       "    </tr>\n",
       "    <tr>\n",
       "      <th>2</th>\n",
       "      <td>3</td>\n",
       "      <td>AEA040</td>\n",
       "      <td>34444e</td>\n",
       "      <td>LEMD</td>\n",
       "      <td>LEMD</td>\n",
       "      <td>2018-12-31 01:07:21+00:00</td>\n",
       "      <td>2019-01-01 03:32:59+00:00</td>\n",
       "      <td>2019-01-01 00:00:00+00:00</td>\n",
       "      <td>40.534756</td>\n",
       "      <td>-3.575426</td>\n",
       "      <td>609.6</td>\n",
       "      <td>40.475728</td>\n",
       "      <td>-3.538347</td>\n",
       "      <td>411.48</td>\n",
       "    </tr>\n",
       "    <tr>\n",
       "      <th>3</th>\n",
       "      <td>4</td>\n",
       "      <td>CXA825</td>\n",
       "      <td>780d75</td>\n",
       "      <td>YSSY</td>\n",
       "      <td>LFPG</td>\n",
       "      <td>2018-12-31 01:18:29+00:00</td>\n",
       "      <td>2019-01-01 04:32:28+00:00</td>\n",
       "      <td>2019-01-01 00:00:00+00:00</td>\n",
       "      <td>-33.954254</td>\n",
       "      <td>151.178041</td>\n",
       "      <td>0.0</td>\n",
       "      <td>48.996091</td>\n",
       "      <td>2.625805</td>\n",
       "      <td>22.86</td>\n",
       "    </tr>\n",
       "    <tr>\n",
       "      <th>4</th>\n",
       "      <td>6</td>\n",
       "      <td>CLU211</td>\n",
       "      <td>406ea3</td>\n",
       "      <td>UUEE</td>\n",
       "      <td>EDDF</td>\n",
       "      <td>2018-12-31 01:49:28+00:00</td>\n",
       "      <td>2019-01-01 04:11:38+00:00</td>\n",
       "      <td>2019-01-01 00:00:00+00:00</td>\n",
       "      <td>55.967560</td>\n",
       "      <td>37.371327</td>\n",
       "      <td>304.8</td>\n",
       "      <td>50.044400</td>\n",
       "      <td>8.583737</td>\n",
       "      <td>-30.48</td>\n",
       "    </tr>\n",
       "    <tr>\n",
       "      <th>...</th>\n",
       "      <td>...</td>\n",
       "      <td>...</td>\n",
       "      <td>...</td>\n",
       "      <td>...</td>\n",
       "      <td>...</td>\n",
       "      <td>...</td>\n",
       "      <td>...</td>\n",
       "      <td>...</td>\n",
       "      <td>...</td>\n",
       "      <td>...</td>\n",
       "      <td>...</td>\n",
       "      <td>...</td>\n",
       "      <td>...</td>\n",
       "      <td>...</td>\n",
       "    </tr>\n",
       "    <tr>\n",
       "      <th>12333710</th>\n",
       "      <td>31218155</td>\n",
       "      <td>WP1</td>\n",
       "      <td>7c81cc</td>\n",
       "      <td>YPEC</td>\n",
       "      <td>YPEC</td>\n",
       "      <td>2019-12-31 23:45:16+00:00</td>\n",
       "      <td>2019-12-31 23:56:51+00:00</td>\n",
       "      <td>2019-12-31 00:00:00+00:00</td>\n",
       "      <td>-33.077739</td>\n",
       "      <td>151.606283</td>\n",
       "      <td>609.6</td>\n",
       "      <td>-33.091100</td>\n",
       "      <td>151.555500</td>\n",
       "      <td>632.46</td>\n",
       "    </tr>\n",
       "    <tr>\n",
       "      <th>12333711</th>\n",
       "      <td>31218157</td>\n",
       "      <td>N917JG</td>\n",
       "      <td>acb17b</td>\n",
       "      <td>KO20</td>\n",
       "      <td>KMOD</td>\n",
       "      <td>2019-12-31 23:45:41+00:00</td>\n",
       "      <td>2019-12-31 23:58:42+00:00</td>\n",
       "      <td>2019-12-31 00:00:00+00:00</td>\n",
       "      <td>38.095230</td>\n",
       "      <td>-121.362519</td>\n",
       "      <td>-304.8</td>\n",
       "      <td>37.625800</td>\n",
       "      <td>-120.909497</td>\n",
       "      <td>266.70</td>\n",
       "    </tr>\n",
       "    <tr>\n",
       "      <th>12333712</th>\n",
       "      <td>31218159</td>\n",
       "      <td>BTR</td>\n",
       "      <td>7c07cd</td>\n",
       "      <td>YPPF</td>\n",
       "      <td>YPAD</td>\n",
       "      <td>2019-12-31 23:46:09+00:00</td>\n",
       "      <td>2019-12-31 23:56:11+00:00</td>\n",
       "      <td>2019-12-31 00:00:00+00:00</td>\n",
       "      <td>-34.800201</td>\n",
       "      <td>138.632943</td>\n",
       "      <td>-304.8</td>\n",
       "      <td>-34.837134</td>\n",
       "      <td>138.472195</td>\n",
       "      <td>121.92</td>\n",
       "    </tr>\n",
       "    <tr>\n",
       "      <th>12333713</th>\n",
       "      <td>31218162</td>\n",
       "      <td>N214KT</td>\n",
       "      <td>a1c951</td>\n",
       "      <td>KRBD</td>\n",
       "      <td>KRBD</td>\n",
       "      <td>2019-12-31 23:47:09+00:00</td>\n",
       "      <td>2019-12-31 23:57:41+00:00</td>\n",
       "      <td>2019-12-31 00:00:00+00:00</td>\n",
       "      <td>32.674271</td>\n",
       "      <td>-96.866735</td>\n",
       "      <td>0.0</td>\n",
       "      <td>32.690192</td>\n",
       "      <td>-96.862251</td>\n",
       "      <td>251.46</td>\n",
       "    </tr>\n",
       "    <tr>\n",
       "      <th>12333714</th>\n",
       "      <td>31218163</td>\n",
       "      <td>N337PH</td>\n",
       "      <td>a3b11d</td>\n",
       "      <td>2TS8</td>\n",
       "      <td>KRND</td>\n",
       "      <td>2019-12-31 23:47:37+00:00</td>\n",
       "      <td>2019-12-31 23:57:56+00:00</td>\n",
       "      <td>2019-12-31 00:00:00+00:00</td>\n",
       "      <td>29.305801</td>\n",
       "      <td>-97.937358</td>\n",
       "      <td>304.8</td>\n",
       "      <td>29.437180</td>\n",
       "      <td>-98.347655</td>\n",
       "      <td>358.14</td>\n",
       "    </tr>\n",
       "  </tbody>\n",
       "</table>\n",
       "<p>12333715 rows × 14 columns</p>\n",
       "</div>"
      ],
      "text/plain": [
       "          Unnamed: 0 callsign  icao24 origin destination  \\\n",
       "0                  0    HVN19  888152   YMML        LFPG   \n",
       "1                  2   CES219  780b7e   YSSY        EDDF   \n",
       "2                  3   AEA040  34444e   LEMD        LEMD   \n",
       "3                  4   CXA825  780d75   YSSY        LFPG   \n",
       "4                  6   CLU211  406ea3   UUEE        EDDF   \n",
       "...              ...      ...     ...    ...         ...   \n",
       "12333710    31218155      WP1  7c81cc   YPEC        YPEC   \n",
       "12333711    31218157   N917JG  acb17b   KO20        KMOD   \n",
       "12333712    31218159      BTR  7c07cd   YPPF        YPAD   \n",
       "12333713    31218162   N214KT  a1c951   KRBD        KRBD   \n",
       "12333714    31218163   N337PH  a3b11d   2TS8        KRND   \n",
       "\n",
       "                          firstseen                   lastseen  \\\n",
       "0         2018-12-31 00:43:16+00:00  2019-01-01 04:56:29+00:00   \n",
       "1         2018-12-31 01:05:29+00:00  2019-01-01 04:09:29+00:00   \n",
       "2         2018-12-31 01:07:21+00:00  2019-01-01 03:32:59+00:00   \n",
       "3         2018-12-31 01:18:29+00:00  2019-01-01 04:32:28+00:00   \n",
       "4         2018-12-31 01:49:28+00:00  2019-01-01 04:11:38+00:00   \n",
       "...                             ...                        ...   \n",
       "12333710  2019-12-31 23:45:16+00:00  2019-12-31 23:56:51+00:00   \n",
       "12333711  2019-12-31 23:45:41+00:00  2019-12-31 23:58:42+00:00   \n",
       "12333712  2019-12-31 23:46:09+00:00  2019-12-31 23:56:11+00:00   \n",
       "12333713  2019-12-31 23:47:09+00:00  2019-12-31 23:57:41+00:00   \n",
       "12333714  2019-12-31 23:47:37+00:00  2019-12-31 23:57:56+00:00   \n",
       "\n",
       "                                day  latitude_1  longitude_1  altitude_1  \\\n",
       "0         2019-01-01 00:00:00+00:00  -37.659485   144.804421       304.8   \n",
       "1         2019-01-01 00:00:00+00:00  -33.930908   151.171987         0.0   \n",
       "2         2019-01-01 00:00:00+00:00   40.534756    -3.575426       609.6   \n",
       "3         2019-01-01 00:00:00+00:00  -33.954254   151.178041         0.0   \n",
       "4         2019-01-01 00:00:00+00:00   55.967560    37.371327       304.8   \n",
       "...                             ...         ...          ...         ...   \n",
       "12333710  2019-12-31 00:00:00+00:00  -33.077739   151.606283       609.6   \n",
       "12333711  2019-12-31 00:00:00+00:00   38.095230  -121.362519      -304.8   \n",
       "12333712  2019-12-31 00:00:00+00:00  -34.800201   138.632943      -304.8   \n",
       "12333713  2019-12-31 00:00:00+00:00   32.674271   -96.866735         0.0   \n",
       "12333714  2019-12-31 00:00:00+00:00   29.305801   -97.937358       304.8   \n",
       "\n",
       "          latitude_2  longitude_2  altitude_2  \n",
       "0          48.995316     2.610802      -53.34  \n",
       "1          50.045563     8.588923      -15.24  \n",
       "2          40.475728    -3.538347      411.48  \n",
       "3          48.996091     2.625805       22.86  \n",
       "4          50.044400     8.583737      -30.48  \n",
       "...              ...          ...         ...  \n",
       "12333710  -33.091100   151.555500      632.46  \n",
       "12333711   37.625800  -120.909497      266.70  \n",
       "12333712  -34.837134   138.472195      121.92  \n",
       "12333713   32.690192   -96.862251      251.46  \n",
       "12333714   29.437180   -98.347655      358.14  \n",
       "\n",
       "[12333715 rows x 14 columns]"
      ]
     },
     "execution_count": 6,
     "metadata": {},
     "output_type": "execute_result"
    }
   ],
   "source": [
    "aa"
   ]
  },
  {
   "cell_type": "code",
   "execution_count": null,
   "id": "f01b332f-82a0-4bdb-bd16-94173eadd823",
   "metadata": {},
   "outputs": [],
   "source": []
  }
 ],
 "metadata": {
  "kernelspec": {
   "display_name": "Python 3 (ipykernel)",
   "language": "python",
   "name": "python3"
  },
  "language_info": {
   "codemirror_mode": {
    "name": "ipython",
    "version": 3
   },
   "file_extension": ".py",
   "mimetype": "text/x-python",
   "name": "python",
   "nbconvert_exporter": "python",
   "pygments_lexer": "ipython3",
   "version": "3.10.0"
  }
 },
 "nbformat": 4,
 "nbformat_minor": 5
}
